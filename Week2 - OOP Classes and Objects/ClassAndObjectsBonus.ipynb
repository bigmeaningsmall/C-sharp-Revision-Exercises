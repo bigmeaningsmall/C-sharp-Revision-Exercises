{
 "cells": [
  {
   "cell_type": "markdown",
   "metadata": {},
   "source": [
    "### **Bonus Exercise - Create an Animal Sound Orchestra 🎵**\n",
    "\n",
    "1. **Create a Method to Perform Repeated Actions**:\n",
    "   - Add a new method in each animal class that takes an integer parameter representing **how many times** the animal should make its unique sound (e.g., `Meow(int times)` or `Chirp(int times)`).\n",
    "\n",
    "2. **Create a Method to Repeat Multiple Sounds**:\n",
    "   - In each class, add a new method like `Perform(int times)` that calls the sound method in a **loop**. This method should print the sound a number of times based on the parameter.\n",
    "\n",
    "3. **Create an `Animal` Array**:\n",
    "   - In your `Main()` method, create an **array or list** of different animal objects (`Dog`, `Cat`, `Bird`, etc.).\n",
    "   - Loop through the array and call the `Perform(times)` method on each animal, making them perform as part of an \"animal sound orchestra\".\n",
    "\n",
    "4. **Test Your Orchestra**:\n",
    "   - Pass different values to each `Perform(times)` call to see the animals make different sounds in a sequence.\n",
    "\n",
    "\n",
    "**Optional Extension**: \n",
    "- Add a `tempo` parameter to control the speed of each sound.\n",
    "- Combine multiple types of animals in the same loop to create complex sequences.\n",
    "\n",
    "🎵 **Challenge**: See if you can make each animal perform its sound at different repetitions to create a unique pattern!"
   ]
  },
  {
   "cell_type": "markdown",
   "metadata": {},
   "source": [
    "### **Define the Base Animal Class**"
   ]
  },
  {
   "cell_type": "code",
   "execution_count": 1,
   "metadata": {
    "dotnet_interactive": {
     "language": "csharp"
    },
    "polyglot_notebook": {
     "kernelName": "csharp"
    }
   },
   "outputs": [
    {
     "name": "stdout",
     "output_type": "stream",
     "text": [
      "Generic is a 1 year old Animal.\n",
      "Generic the Animal makes a sound!\n"
     ]
    }
   ],
   "source": [
    "// Step 1: Define the Animal base class\n",
    "public class Animal\n",
    "{\n",
    "    public string Name { get; set; }\n",
    "    public string Species { get; set; }\n",
    "    public int Age { get; set; }\n",
    "\n",
    "    // Constructor to initialize properties\n",
    "    public Animal(string name, string species, int age)\n",
    "    {\n",
    "        Name = name;\n",
    "        Species = species;\n",
    "        Age = age;\n",
    "    }\n",
    "\n",
    "    // Virtual method that can be overridden by derived classes\n",
    "    public virtual void MakeSound()\n",
    "    {\n",
    "        Console.WriteLine($\"{Name} the {Species} makes a sound!\");\n",
    "    }\n",
    "\n",
    "    // Method to describe the animal\n",
    "    public void Describe()\n",
    "    {\n",
    "        Console.WriteLine($\"{Name} is a {Age} year old {Species}.\");\n",
    "    }\n",
    "\n",
    "    // Optional: Method for making sounds multiple times\n",
    "    public virtual void Perform(int times)\n",
    "    {\n",
    "        for (int i = 0; i < times; i++)\n",
    "        {\n",
    "            MakeSound();\n",
    "        }\n",
    "    }\n",
    "}\n",
    "\n",
    "// Create an Animal object and test\n",
    "Animal genericAnimal = new Animal(\"Generic\", \"Animal\", 1);\n",
    "genericAnimal.Describe();      // \"Generic is a 1 year old Animal.\"\n",
    "genericAnimal.MakeSound();     // \"Generic the Animal makes a sound!\""
   ]
  },
  {
   "cell_type": "markdown",
   "metadata": {},
   "source": [
    "### **Step 1 - Extend the Animal Class**\n",
    "- Create **2-3 new animal classes** that inherit from the base `Animal` class (e.g., `Dog`, `Cat`, `Bird`).\n",
    "- In each class, add a **unique method** for the animal’s sound (e.g., `Bark()` for `Dog`, `Meow()` for `Cat`).\n",
    "- Override the `MakeSound()` method to call your unique method."
   ]
  },
  {
   "cell_type": "code",
   "execution_count": 2,
   "metadata": {
    "dotnet_interactive": {
     "language": "csharp"
    },
    "polyglot_notebook": {
     "kernelName": "csharp"
    }
   },
   "outputs": [
    {
     "name": "stdout",
     "output_type": "stream",
     "text": [
      "Buddy is a 3 year old Dog.\n",
      "Buddy barks: Woof! Woof!\n",
      "Buddy barks loudly: WOOF!\n"
     ]
    }
   ],
   "source": [
    "// Step 1a: Define the Dog class that inherits from Animal\n",
    "public class Dog : Animal\n",
    "{\n",
    "    public Dog(string name, int age) : base(name, \"Dog\", age) { }\n",
    "\n",
    "    // New method specific to Dog class\n",
    "    public void Bark()\n",
    "    {\n",
    "        Console.WriteLine($\"{Name} barks: Woof! Woof!\");\n",
    "    }\n",
    "\n",
    "    // Overloaded method with a parameter\n",
    "    public void Bark(string volume)\n",
    "    {\n",
    "        Console.WriteLine($\"{Name} barks {volume}: WOOF!\");\n",
    "    }\n",
    "\n",
    "    // Override the MakeSound method to use Bark instead\n",
    "    public override void MakeSound()\n",
    "    {\n",
    "        Bark();\n",
    "    }\n",
    "\n",
    "    // Override Perform method to use Bark method multiple times\n",
    "    public override void Perform(int times)\n",
    "    {\n",
    "        for (int i = 0; i < times; i++)\n",
    "        {\n",
    "            Bark();\n",
    "        }\n",
    "    }\n",
    "}\n",
    "\n",
    "// Create a Dog object and test\n",
    "Dog myDog = new Dog(\"Buddy\", 3);\n",
    "myDog.Describe();   // \"Buddy is a 3 year old Dog.\"\n",
    "myDog.MakeSound();  // \"Buddy barks: Woof! Woof!\"\n",
    "myDog.Bark(\"loudly\"); // \"Buddy barks loudly: WOOF!\""
   ]
  },
  {
   "cell_type": "code",
   "execution_count": null,
   "metadata": {
    "dotnet_interactive": {
     "language": "csharp"
    },
    "polyglot_notebook": {
     "kernelName": "csharp"
    }
   },
   "outputs": [],
   "source": [
    "// Step 1b: Define the Cat class that inherits from Animal\n"
   ]
  },
  {
   "cell_type": "code",
   "execution_count": null,
   "metadata": {
    "dotnet_interactive": {
     "language": "csharp"
    },
    "polyglot_notebook": {
     "kernelName": "csharp"
    }
   },
   "outputs": [],
   "source": [
    "// Step 1c: Define the Frog class that inherits from Animal\n"
   ]
  },
  {
   "cell_type": "markdown",
   "metadata": {},
   "source": [
    "### **Step 2 - Create the Animal Sound Orchestra**\n",
    "- Create an **array or list** to hold different animal objects.\n",
    "- Populate the array with objects of the animal classes you created (`Dog`, `Cat`, `Bird`, etc.)."
   ]
  },
  {
   "cell_type": "code",
   "execution_count": null,
   "metadata": {
    "dotnet_interactive": {
     "language": "csharp"
    },
    "polyglot_notebook": {
     "kernelName": "csharp"
    }
   },
   "outputs": [],
   "source": [
    "// Step 2: Create an array of Animal objects with different types\n",
    "// This array can hold objects of type Animal, Dog, Cat, or Frog\n",
    "\n"
   ]
  },
  {
   "cell_type": "markdown",
   "metadata": {},
   "source": [
    "### **Step 3 - Make the Orchestra Perform**\n",
    "- Use a **loop** to iterate through the animal array.\n",
    "- For each animal in the array, call the `Perform(times)` method to make them perform their sound.\n",
    "- Try passing different values to `Perform(times)` for each animal to vary the repetitions."
   ]
  },
  {
   "cell_type": "code",
   "execution_count": null,
   "metadata": {
    "dotnet_interactive": {
     "language": "csharp"
    },
    "polyglot_notebook": {
     "kernelName": "csharp"
    }
   },
   "outputs": [],
   "source": [
    "// Step 3: Loop through the array and make each animal perform\n",
    "// This will call the Perform method of each animal, which will make them perform their sound multiple times\n",
    "// tip: you can use the `foreach` loop to iterate over the array\n",
    "\n"
   ]
  },
  {
   "cell_type": "code",
   "execution_count": null,
   "metadata": {
    "dotnet_interactive": {
     "language": "csharp"
    },
    "polyglot_notebook": {
     "kernelName": "csharp"
    }
   },
   "outputs": [],
   "source": [
    "// Cat ASCII Art in C#\n",
    "Console.WriteLine(@\"       \n",
    "       /\\_____/\\\n",
    "      /  o     o\\\n",
    "     ( ==  ^  == ) \n",
    "     )   ~~~~   ( \n",
    "    /             \\\n",
    "   /  Great Job!   \\\n",
    "  (                )\n",
    "   \\_______________/\");"
   ]
  }
 ],
 "metadata": {
  "kernelspec": {
   "display_name": ".NET (C#)",
   "language": "C#",
   "name": ".net-csharp"
  },
  "polyglot_notebook": {
   "kernelInfo": {
    "defaultKernelName": "csharp",
    "items": [
     {
      "aliases": [],
      "languageName": "csharp",
      "name": "csharp"
     }
    ]
   }
  }
 },
 "nbformat": 4,
 "nbformat_minor": 2
}
