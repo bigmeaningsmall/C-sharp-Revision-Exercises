{
 "cells": [
  {
   "cell_type": "markdown",
   "metadata": {},
   "source": [
    "\n",
    "\n",
    "---\n",
    "\n",
    "# Introduction to Classes and Objects in C#\n",
    "\n",
    "## Example 1 - Class and Objects in C#\n",
    "\n",
    "A **class** is a blueprint for creating objects, defining their properties and behaviours. An **object** is an instance of a class, where you can set values to the properties and call methods.\n",
    "\n",
    "### Example Breakdown:\n",
    "- **Class Definition**: The `Animal` class defines three properties (`Name`, `Species`, `Age`) and one method (`MakeSound()`), which prints a message using the property values.\n",
    "- **Creating Objects**: We create two `Animal` objects (`cat` and `dog`), each with different properties.\n",
    "- **Calling Methods**: Using `cat.MakeSound()` and `dog.MakeSound()` prints the respective messages.\n",
    "\n",
    "Use the following code to see how classes and objects work together:\n",
    "\n",
    "\n",
    "```csharp\n",
    "// Define the Animal class\n",
    "public class Animal\n",
    "{\n",
    "    // Properties\n",
    "    public string Name { get; set; }\n",
    "    public string Species { get; set; }\n",
    "    public int Age { get; set; }\n",
    "\n",
    "    // Method\n",
    "    public void MakeSound()\n",
    "    {\n",
    "        Console.WriteLine($\"{Name} the {Species} makes a sound!\");\n",
    "    }\n",
    "}\n",
    "\n",
    "// Create Animal objects\n",
    "Animal cat = new Animal { Name = \"Whiskers\", Species = \"Cat\", Age = 3 };\n",
    "Animal dog = new Animal { Name = \"Buddy\", Species = \"Dog\", Age = 5 };\n",
    "\n",
    "// Call methods on Animal objects\n",
    "cat.MakeSound();\n",
    "dog.MakeSound();\n",
    "```\n",
    "\n",
    "---\n",
    "### Exercise 1 - Type the code in the code notebook below\n",
    "---\n"
   ]
  },
  {
   "cell_type": "code",
   "execution_count": null,
   "metadata": {
    "dotnet_interactive": {
     "language": "csharp"
    },
    "polyglot_notebook": {
     "kernelName": "csharp"
    }
   },
   "outputs": [],
   "source": [
    "\n",
    "// CLASS ------------------------\n",
    "// Define the Animal class\n",
    "\n",
    "\n",
    "// OBJECTS ------------------------\n",
    "// Create Animal objects\n",
    "\n"
   ]
  },
  {
   "cell_type": "markdown",
   "metadata": {},
   "source": [
    "\n",
    "\n",
    "---\n",
    "\n",
    "## Example 2 - Class with Constructor in C#\n",
    "\n",
    "A **constructor** is a special method used to initialize objects with specific values when they are created. In this example:\n",
    "- **Class Definition**: The `Animal` class includes a constructor that accepts `name`, `species`, and `age` parameters to set the property values directly when the object is created.\n",
    "- **Creating Objects**: We use the constructor to create `Animal` objects (`bird` and `elephant`) with defined properties.\n",
    "- **Calling Methods**: Using `Describe()` and `MakeSound()` prints details and sounds of the animals.\n",
    "\n",
    "Use the following code to see how constructors work:\n",
    "\n",
    "```csharp\n",
    "// Define the Animal class with a constructor \n",
    "public class Animal\n",
    "{\n",
    "    // Properties\n",
    "    public string Name { get; set; }\n",
    "    public string Species { get; set; }\n",
    "    public int Age { get; set; }\n",
    "\n",
    "    // Constructor\n",
    "    public Animal(string name, string species, int age)\n",
    "    {\n",
    "        Name = name;\n",
    "        Species = species;\n",
    "        Age = age;\n",
    "    }\n",
    "\n",
    "    // Method\n",
    "    public void MakeSound()\n",
    "    {\n",
    "        Console.WriteLine($\"{Name} the {Species} makes a sound!\");\n",
    "    }\n",
    "\n",
    "    // Method to describe the animal\n",
    "    public void Describe()\n",
    "    {\n",
    "        Console.WriteLine($\"{Name} is a {Age} year old {Species}.\");\n",
    "    }\n",
    "}\n",
    "\n",
    "// Create Animal objects using the constructor\n",
    "Animal bird = new Animal(\"Tweety\", \"Bird\", 2);\n",
    "Animal elephant = new Animal(\"Dumbo\", \"Elephant\", 10);\n",
    "\n",
    "// Call methods on Animal objects\n",
    "bird.Describe();\n",
    "bird.MakeSound();\n",
    "\n",
    "elephant.Describe();\n",
    "elephant.MakeSound();\n",
    "```\n",
    "\n",
    "---\n",
    "### Exercise 2 - Type the code in the code notebook below\n",
    "---"
   ]
  },
  {
   "cell_type": "code",
   "execution_count": null,
   "metadata": {
    "dotnet_interactive": {
     "language": "csharp"
    },
    "polyglot_notebook": {
     "kernelName": "csharp"
    }
   },
   "outputs": [],
   "source": [
    "\n",
    "// CLASS WITH CONSTRUCTOR ------------------------\n",
    "// Define the Animal class with a constructor\n",
    "\n",
    "\n",
    "\n",
    "// OBJECTS WITH CONSTRUCTOR ------------------------\n",
    "// Create Animal objects using the constructor\n"
   ]
  },
  {
   "cell_type": "markdown",
   "metadata": {},
   "source": [
    "\n",
    "---\n",
    "\n",
    "## Example 3 - Class with Inheritance in C#\n",
    "\n",
    "**Inheritance** allows a class to inherit properties and methods from another class. In this example:\n",
    "- **Base Class**: The `Animal` class defines properties (`Name`, `Species`, `Age`) and methods like `MakeSound()` and `Describe()`.\n",
    "- **Derived Class**: The `Dog` class inherits from `Animal`, meaning it has access to the `Animal` class properties and methods. The `Dog` class also introduces a new method `Bark()` and overrides the `MakeSound()` method.\n",
    "- **Method Overriding**: `Dog` uses its own `MakeSound()` implementation that calls `Bark()` instead of the base class method.\n",
    "\n",
    "Use the following code to see how inheritance works:\n",
    "\n",
    "```csharp\n",
    "// Define the Animal class with a virtual MakeSound method\n",
    "public class Animal\n",
    "{\n",
    "    public string Name { get; set; }\n",
    "    public string Species { get; set; }\n",
    "    public int Age { get; set; }\n",
    "\n",
    "    public Animal(string name, string species, int age)\n",
    "    {\n",
    "        Name = name;\n",
    "        Species = species;\n",
    "        Age = age;\n",
    "    }\n",
    "\n",
    "    // Virtual method\n",
    "    // \"virtual\" means child classes can override this method with their own version\n",
    "    public virtual void MakeSound()\n",
    "    {\n",
    "        Console.WriteLine($\"{Name} the {Species} makes a sound!\");\n",
    "    }\n",
    "\n",
    "    public void Describe()\n",
    "    {\n",
    "        Console.WriteLine($\"{Name} is a {Age} year old {Species}.\");\n",
    "    }\n",
    "}\n",
    "\n",
    "// *** Note: this can be seperate script files in Unity or in real code scenario\n",
    "// Define the Dog class that inherits from the base class  Animal\n",
    "public class Dog : Animal\n",
    "{\n",
    "    // Calls the Animal constructor with (name, species, age)\n",
    "    public Dog(string name, int age) : base(name, \"Dog\", age) \n",
    "    { \n",
    "        // Nothing else needed, species is always \"Dog\" \n",
    "        // This is a an inheritance chain - its a little tricky but dont worry about it too much - its just a structure for passing parameters to dreived classes\n",
    "        // if you are reading this comment and thinking about this constructor have a 🌟\n",
    "    }\n",
    "\n",
    "\n",
    "    // New method for Dog\n",
    "    public void Bark()\n",
    "    {\n",
    "        Console.WriteLine($\"{Name} barks!\");\n",
    "    }\n",
    "\n",
    "    // Override the MakeSound method - we are 'overriding' the 'virtual' method 'MakeSound' \n",
    "    //  - notice the difference if you comment this method and run the code\n",
    "    public override void MakeSound()\n",
    "    {\n",
    "        Bark();\n",
    "    }\n",
    "}\n",
    "\n",
    "// Create a Dog object\n",
    "Dog labrador = new Dog(\"Buddy\", 4);\n",
    "\n",
    "// Call methods on Dog object\n",
    "labrador.Describe();\n",
    "labrador.MakeSound();\n",
    "```\n",
    "\n",
    "---\n",
    "### Exercise 3 - Type the code in the code notebook below\n",
    "---"
   ]
  },
  {
   "cell_type": "code",
   "execution_count": null,
   "metadata": {
    "dotnet_interactive": {
     "language": "csharp"
    },
    "polyglot_notebook": {
     "kernelName": "csharp"
    }
   },
   "outputs": [],
   "source": [
    "// CLASS WITH INHERITANCE ------------------------\n",
    "// Define the Animal class with a virtual MakeSound method\n",
    "\n",
    "\n",
    "\n",
    "// OBJECTS WITH INHERITANCE ------------------------\n",
    "// Define the Dog class that inherits from Animal\n"
   ]
  },
  {
   "cell_type": "markdown",
   "metadata": {},
   "source": [
    "---\n",
    "\n",
    "### Instructions for Creating Animal Variations Using Inheritance\n",
    "\n",
    "In this exercise, you will be using **inheritance** to create variations of the `Animal` class. Inheritance allows one class to inherit properties and methods from another class, enabling code reusability and extending functionalities.\n",
    "\n",
    "1. **Create New Animal Classes**:\n",
    "   - Create new classes like `Cat`, `Bird`, or `Cow`.\n",
    "   - Make these classes **inherit** from the `Animal` class using the syntax `: Animal`.\n",
    "\n",
    "2. **Add Unique Methods**:\n",
    "   - Each new class should have a unique method that represents the sound or action of that animal.\n",
    "   - For example, `Cat` could have a `Meow()` method, and `Bird` could have a `Chirp()` method.\n",
    "\n",
    "3. **Override `MakeSound()`**:\n",
    "   - Override the `MakeSound()` method in each new class to call the unique method you created, just like the `Dog` class uses `Bark()`.\n",
    "\n",
    "4. **Create Objects and Call Methods**:\n",
    "   - Once your new classes are defined, create objects for each and call their `Describe()` and `MakeSound()` methods to see the results.\n",
    "\n",
    "**Why Inheritance?**\n",
    "- Inheritance lets your new animal classes (`Cat`, `Bird`, etc.) automatically have the same properties (`Name`, `Species`, `Age`) and methods (`Describe()`) as the `Animal` class.\n",
    "- You only need to define the new behaviour specific to each animal, like `Meow()` or `Chirp()`, while still keeping the common functionality.\n",
    "\n",
    "**Your Task**:\n",
    "Create at least two new classes that inherit from `Animal`, add unique methods for each class, override `MakeSound()`, and create their objects.\n",
    "\n",
    "Example:\n",
    "```csharp\n",
    "// Define the Cat class that inherits from Animal\n",
    "public class Cat : Animal\n",
    "{\n",
    "    public Cat(string name, int age) : base(name, \"Cat\", age) { }\n",
    "\n",
    "    // Unique method for Cat\n",
    "    public void Meow()\n",
    "    {\n",
    "        Console.WriteLine($\"{Name} meows!\");\n",
    "    }\n",
    "\n",
    "    // Override MakeSound method\n",
    "    public override void MakeSound()\n",
    "    {\n",
    "        Meow();\n",
    "    }\n",
    "}\n",
    "\n",
    "// Create a Cat object and call methods\n",
    "Cat myCat = new Cat(\"Mittens\", 2);\n",
    "myCat.Describe();  // Prints: \"Mittens is a 2 year old Cat.\"\n",
    "myCat.MakeSound(); // Prints: \"Mittens meows!\"\n",
    "```\n",
    "\n",
    "### **Exercise - Create Your Own Animal Classes Using Inheritance**\n",
    "\n",
    "- Create 2-3 new animal classes that inherit from `Animal`, add unique and overloaded methods, override `MakeSound()`, and create objects to test your variations!"
   ]
  },
  {
   "cell_type": "code",
   "execution_count": null,
   "metadata": {
    "dotnet_interactive": {
     "language": "csharp"
    },
    "polyglot_notebook": {
     "kernelName": "csharp"
    }
   },
   "outputs": [],
   "source": [
    "\n",
    "// Define the Cat class that inherits from Animal - Create a cat called 'something' that goes 'meow'\n",
    "\n",
    "\n",
    "// Create a Cat object and call methods\n",
    "\n",
    "\n"
   ]
  },
  {
   "cell_type": "code",
   "execution_count": null,
   "metadata": {
    "dotnet_interactive": {
     "language": "csharp"
    },
    "polyglot_notebook": {
     "kernelName": "csharp"
    }
   },
   "outputs": [],
   "source": [
    "// Create more Cat objects and call methods - Create a cat called \"some other cats\" that goes 'meow'\n",
    "\n"
   ]
  },
  {
   "cell_type": "markdown",
   "metadata": {},
   "source": [
    "\n",
    "---\n",
    "---\n",
    "\n",
    "\n",
    "## Thinking About Inheritance in Game Development\n",
    "\n",
    "You’ve just built animal classes using **inheritance**. That’s not the end of the story. It’s the beginning of learning how to structure larger systems.\n",
    "\n",
    "Inheritance is about deciding *when it makes sense* to share code across different objects. In game development, that’s an ongoing design process: sometimes a base class makes things clean and reusable, other times composition or interfaces are a better fit. The key is to recognise the relationships between objects and how they should behave.\n",
    "Learning through prototyping and iteration helps us work out what works best in different scenarios\n",
    "\n",
    "### Practical Uses of Inheritance\n",
    "\n",
    "* **Characters and Enemies**\n",
    "  Start with a `Character` base class that holds shared properties like health, speed, and position. From there, make `Player`, `Enemy`, or `NPC` subclasses with their own actions (`Attack()`, `Defend()`, `Patrol()`).\n",
    "\n",
    "* **Vehicles in a Racing Game**\n",
    "  A `Vehicle` base class might define acceleration and steering. Subclasses like `Car`, `Bike`, or `Truck` adjust these behaviours to feel unique.\n",
    "\n",
    "* **Items in a Shop or Inventory**\n",
    "  Begin with an `Item` class for name, cost, and description. Subclasses like `Weapon`, `Potion`, or `KeyItem` extend it with effects or restrictions.\n",
    "\n",
    "* **Employees in a Simulation**\n",
    "  A base `Employee` with `Name` and `Salary` could branch into `Manager` or `Developer`, each with different responsibilities.\n",
    "\n",
    "### A Game Example: The Zoo Simulator\n",
    "\n",
    "Imagine a zoo management game. You could:\n",
    "\n",
    "* Create a base `Animal` class for shared details like `Name`, `Age`, and `Eat()`.\n",
    "* Derive subclasses such as `Lion`, `Penguin`, and `Elephant`.\n",
    "* Override `MakeSound()` or add special methods (`Swim()`, `Trumpet()`, `Hunt()`).\n",
    "* Use polymorphism so your zoo can handle all animals through the same interface, while still allowing unique behaviours.\n",
    "\n",
    "This structure lets you add new animals without rewriting your zoo’s core logic — just extend the base class.\n",
    "\n",
    "### Why It Matters\n",
    "\n",
    "* **Reusability**: Write shared code once.\n",
    "* **Maintainability**: Change the base class, and improvements ripple through all subclasses.\n",
    "* **Extensibility**: Add new types without breaking old ones.\n",
    "\n",
    "\n",
    "---\n",
    "---\n",
    "\n",
    "\n"
   ]
  },
  {
   "cell_type": "code",
   "execution_count": null,
   "metadata": {
    "dotnet_interactive": {
     "language": "csharp"
    },
    "polyglot_notebook": {
     "kernelName": "csharp"
    }
   },
   "outputs": [
    {
     "ename": "Error",
     "evalue": "(3,1): error CS0246: The type or namespace name 'Cat' could not be found (are you missing a using directive or an assembly reference?)\r\n(3,21): error CS0246: The type or namespace name 'Cat' could not be found (are you missing a using directive or an assembly reference?)",
     "output_type": "error",
     "traceback": [
      "(3,1): error CS0246: The type or namespace name 'Cat' could not be found (are you missing a using directive or an assembly reference?)\r\n",
      "(3,21): error CS0246: The type or namespace name 'Cat' could not be found (are you missing a using directive or an assembly reference?)"
     ]
    }
   ],
   "source": [
    "// make sure you have created the cat class earlier to run this block\n",
    "// Create a Cat object and call methods\n",
    "Cat niallsCat = new Cat(\"Heiko the Maine Coon\", 4);\n",
    "niallsCat.Describe();  // Prints: \"Heiko the Maine Coon is a 3 year old Frog.\"\n",
    "niallsCat.MakeSound(); // Prints: \"Heiko the Maine Coon meows: Meow!! Meow!!\"\n",
    "\n",
    "\n",
    "// Cat ASCII Art in C#\n",
    "Console.WriteLine(@\"       \n",
    "       /\\_____/\\\n",
    "      /  o     o\\\n",
    "     ( ==  ^  == ) \n",
    "     )   ~~~~   ( \n",
    "    /             \\\n",
    "   /  Great Job!   \\\n",
    "  (  Keep Coding!  )\n",
    "   \\_______________/\");\n"
   ]
  }
 ],
 "metadata": {
  "kernelspec": {
   "display_name": ".NET (C#)",
   "language": "C#",
   "name": ".net-csharp"
  },
  "polyglot_notebook": {
   "kernelInfo": {
    "defaultKernelName": "csharp",
    "items": [
     {
      "aliases": [],
      "languageName": "csharp",
      "name": "csharp"
     }
    ]
   }
  }
 },
 "nbformat": 4,
 "nbformat_minor": 2
}
