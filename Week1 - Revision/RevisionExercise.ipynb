{
 "cells": [
  {
   "cell_type": "markdown",
   "metadata": {},
   "source": [
    "# C# Revision Exercise: Variables, Operators, Control Flow, Loops, and Functions\n",
    "\n",
    "## Instructions\n",
    "Work through the following exercises step by step. Each section contains explanations followed by exercises that you will need to complete by writing your own code. Run each cell as you go to test your understanding.\n",
    "\n",
    "---\n",
    "\n",
    "### 1. Variables\n",
    "\n",
    "#### Explanation:\n",
    "Variables store data values that can be modified or used throughout your program. In C#, variables must be declared with a **type** (e.g., `int`, `float`, `string`, `bool`).\n",
    "\n",
    "#### Task:\n",
    "1. Declare four variables:\n",
    "   - An integer to store a score.\n",
    "   - A float to store the player's health.\n",
    "   - A string to store the player's name.\n",
    "   - A boolean to track whether the game is over.\n",
    "\n",
    "2. Output each variable's value to the console."
   ]
  },
  {
   "cell_type": "code",
   "execution_count": null,
   "metadata": {
    "dotnet_interactive": {
     "language": "csharp"
    },
    "polyglot_notebook": {
     "kernelName": "csharp"
    }
   },
   "outputs": [
    {
     "name": "stdout",
     "output_type": "stream",
     "text": [
      "The result is 10\n",
      "The health is 9.9\n"
     ]
    }
   ],
   "source": [
    "// Exercise: Declare variables and output them to the console.\n",
    "// Complete this code by declaring appropriate variables and printing them.\n",
    "\n",
    "//declare the variables here below the examples\n",
    "int result = 10;\n",
    "float health = 9.9f;\n",
    "\n",
    "\n",
    "//print the variables here - note the curly brackets are for 'casting' the variable to the output\n",
    "Console.WriteLine($\"The result is {result}\");\n",
    "Console.WriteLine($\"The health is {health}\");\n",
    "\n"
   ]
  },
  {
   "cell_type": "markdown",
   "metadata": {},
   "source": [
    "### 2. Operators\n",
    "\n",
    "#### Explanation:\n",
    "Operators are symbols used to perform operations on variables and values. These include **arithmetic** (`+`, `-`, `*`, `/`), **comparison** (`==`, `!=`, `>`, `<`), and **logical** (`&&`, `||`, `!`) operators.\n",
    "\n",
    "#### Task 1 (Arithmetic):\n",
    "1. Create two variables `score` and `bonus` (integer values).\n",
    "2. Use **arithmetic operators** to add them together and output the result as `totalScore`.\n",
    "3. Experiment with different arithmetic operators and values\n",
    "\n",
    "\n",
    "#### Task 2 (Comparison):\n",
    "1. Create a `bool` variable for the winner (example: `isWinner`)\n",
    "2. Create a `targetScore` value integer to use in the comparison\n",
    "3. Use a **comparison operator** to check if `score` is greater than the `targetScore` and output the result.\n",
    "- _PseudoCode Hint: `isWinner = score > targetScore;`_\n",
    "4. Use a **logical operators and bools** to check if the player is alive (`isAlive = true`) and has a key (`hasKey = false`), and output the result."
   ]
  },
  {
   "cell_type": "code",
   "execution_count": null,
   "metadata": {
    "dotnet_interactive": {
     "language": "csharp"
    },
    "polyglot_notebook": {
     "kernelName": "csharp"
    }
   },
   "outputs": [],
   "source": [
    "// Exercise: Work with arithmetic, comparison, and logical operators.\n",
    "// Complete this code by using appropriate operators and printing the results.\n",
    "\n"
   ]
  },
  {
   "cell_type": "markdown",
   "metadata": {},
   "source": [
    "### 3. Control Flow (If/Else and Switch)\n",
    "\n",
    "#### Explanation:\n",
    "Control flow statements like **if/else** and **switch** allow you to control the flow of the program based on conditions.\n",
    "\n",
    "#### Task 1 (If/Else):\n",
    "1. Write an `if` statement that checks if the player's health is above 0 and outputs \"Player is alive.\" Otherwise, output \"Player is dead.\"\n",
    "2. Write an `if` statement that uses a boolean to check if the \"Player is alive.\" Otherwise, output \"Player is dead.\" (make the player dead!)\n",
    "\n",
    "#### Task 2 (Switch):\n",
    "1. Use a `switch` statement to check the player's level. If the level is 1, output \"Easy mode.\" If it's 2, output \"Medium mode.\" If it's 3, output \"Hard mode.\" Otherwise, output \"Unknown mode.\""
   ]
  },
  {
   "cell_type": "code",
   "execution_count": null,
   "metadata": {
    "dotnet_interactive": {
     "language": "csharp"
    },
    "polyglot_notebook": {
     "kernelName": "csharp"
    }
   },
   "outputs": [],
   "source": [
    "//TASK 1\n",
    "// Exercise: Work with control flow using if/else\n",
    "// Complete this code by implementing the control flow statements and printing the results.\n",
    "\n",
    "\n"
   ]
  },
  {
   "cell_type": "markdown",
   "metadata": {},
   "source": [
    "#### **Switch Statements**:\n",
    "- Use `switch` when multiple outcomes depend on a single variable."
   ]
  },
  {
   "cell_type": "code",
   "execution_count": null,
   "metadata": {
    "dotnet_interactive": {
     "language": "csharp"
    },
    "polyglot_notebook": {
     "kernelName": "csharp"
    }
   },
   "outputs": [],
   "source": [
    "//TASK 2\n",
    "// Exercise: Work with control flow switch statements.\n",
    "// Complete this code by implementing the control flow statements and printing the results.\n",
    "\n",
    "\n"
   ]
  },
  {
   "cell_type": "markdown",
   "metadata": {},
   "source": [
    "### 4. Loops (For and While)\n",
    "\n",
    "#### Explanation:\n",
    "Loops are used to repeat a block of code multiple times. **For loops** are used when the number of iterations is known, and **while loops** continue until a specified condition is no longer true.\n",
    "\n",
    "#### Task 1a:\n",
    "1. Use a `for` loop to print the numbers 1 to 5 to the console.\n",
    "2. Add another for loop and use a `int` to set the number of times the loop executes (eg. 15 + loopCount)\n",
    "#### Task 1b:\n",
    "1. Inside the second for loop add an `if` statement to check when ten loops are done and output it to the console\n",
    "2. _optional: add a `break;` inside the `if` to stop the loop executing. Comment/uncomment the `break` to see the difference\n"
   ]
  },
  {
   "cell_type": "code",
   "execution_count": null,
   "metadata": {
    "dotnet_interactive": {
     "language": "csharp"
    },
    "polyglot_notebook": {
     "kernelName": "csharp"
    }
   },
   "outputs": [],
   "source": [
    "// TASK 1a and 1b\n",
    "// Exercise: Work with for loops.\n",
    "// Complete this code by implementing the loops and printing the results.\n",
    "\n",
    "\n"
   ]
  },
  {
   "cell_type": "markdown",
   "metadata": {},
   "source": [
    "#### **While Loops**:\n",
    "- `while` loops continue as long as a condition is true."
   ]
  },
  {
   "cell_type": "code",
   "execution_count": null,
   "metadata": {
    "dotnet_interactive": {
     "language": "csharp"
    },
    "polyglot_notebook": {
     "kernelName": "csharp"
    }
   },
   "outputs": [],
   "source": [
    "//TASK 1\n",
    "// Exercise: Work with while loops.\n",
    "// Complete this code by implementing the loops and printing the results.\n",
    "\n"
   ]
  },
  {
   "cell_type": "markdown",
   "metadata": {},
   "source": [
    "### 5. Functions and Parameters\n",
    "\n",
    "#### Explanation:\n",
    "Functions allow you to group and reuse code. Functions can take parameters and return values. You can pass data into functions and get results back.\n",
    "\n",
    "#### Task:\n",
    "1. Create a function `GreetPlayer` that takes no parameters and prints \"Welcome, Player!\" to the console.\n",
    "2. Create a function `AddScore` that takes two integers as parameters (`score` and `bonus`) and outputs the total score.\n",
    "3. Create a function `Multiply` that takes two integers as parameters, multiplies them, and returns the result. Call the function and print the result."
   ]
  },
  {
   "cell_type": "code",
   "execution_count": null,
   "metadata": {
    "dotnet_interactive": {
     "language": "csharp"
    },
    "polyglot_notebook": {
     "kernelName": "csharp"
    }
   },
   "outputs": [],
   "source": [
    "//TASK 1\n",
    "// Exercise: Work with functions\n",
    "// Complete this code by defining and calling the functions.\n",
    "\n"
   ]
  },
  {
   "cell_type": "markdown",
   "metadata": {},
   "source": [
    "#### **Passing Parameters to Functions**:\n",
    "- Functions can accept values as 'parameters' or 'arguements'"
   ]
  },
  {
   "cell_type": "code",
   "execution_count": null,
   "metadata": {
    "dotnet_interactive": {
     "language": "csharp"
    },
    "polyglot_notebook": {
     "kernelName": "csharp"
    }
   },
   "outputs": [],
   "source": [
    "//TASK 2\n",
    "// Exercise: Work with functions and parameters\n",
    "// Complete this code by defining and calling the function with parameters.\n",
    "\n"
   ]
  },
  {
   "cell_type": "markdown",
   "metadata": {},
   "source": [
    "#### **Returning Values from Functions**:\n",
    "- Functions can return values using `return`."
   ]
  },
  {
   "cell_type": "code",
   "execution_count": null,
   "metadata": {
    "dotnet_interactive": {
     "language": "csharp"
    },
    "polyglot_notebook": {
     "kernelName": "csharp"
    }
   },
   "outputs": [],
   "source": [
    "//TASK 3\n",
    "// Exercise: Work with functions, parameters and returns values\n",
    "// Complete this code by defining and calling the functions.\n",
    "\n"
   ]
  },
  {
   "cell_type": "markdown",
   "metadata": {},
   "source": [
    "---\n",
    "### Exercises Complete!\n"
   ]
  },
  {
   "cell_type": "code",
   "execution_count": 1,
   "metadata": {
    "dotnet_interactive": {
     "language": "csharp"
    },
    "polyglot_notebook": {
     "kernelName": "csharp"
    }
   },
   "outputs": [
    {
     "name": "stdout",
     "output_type": "stream",
     "text": [
      "\n",
      " /\\_/\\  \n",
      "( o.o ) \n",
      " > ^ <\n",
      "\n",
      "🎉🎉 Congratulations on completing the exercises! 🎉🎉\n",
      "These core concepts are the fundamental components of programming and always good to practice\n",
      "Having a good grasp of them will make you ready to tackle more advanced C# concepts in game programming!\n",
      "Keep up the great work, and happy coding! 🚀\n"
     ]
    }
   ],
   "source": [
    "// Congratulations Message with ASCII Art\n",
    "\n",
    "Console.WriteLine(@\"\n",
    " /\\_/\\  \n",
    "( o.o ) \n",
    " > ^ <\n",
    "\");\n",
    "\n",
    "Console.WriteLine(\"🎉🎉 Congratulations on completing the exercises! 🎉🎉\");\n",
    "Console.WriteLine(\"These core concepts are the fundamental components of programming and always good to practice\");\n",
    "Console.WriteLine(\"Having a good grasp of them will make you ready to tackle more advanced C# concepts in game programming!\");\n",
    "Console.WriteLine(\"Keep up the great work, and happy coding! 🚀\");\n"
   ]
  }
 ],
 "metadata": {
  "kernelspec": {
   "display_name": ".NET (C#)",
   "language": "C#",
   "name": ".net-csharp"
  },
  "polyglot_notebook": {
   "kernelInfo": {
    "defaultKernelName": "csharp",
    "items": [
     {
      "aliases": [],
      "languageName": "csharp",
      "name": "csharp"
     }
    ]
   }
  }
 },
 "nbformat": 4,
 "nbformat_minor": 2
}
