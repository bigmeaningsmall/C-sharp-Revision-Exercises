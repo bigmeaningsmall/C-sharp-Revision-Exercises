{
 "cells": [
  {
   "cell_type": "markdown",
   "metadata": {},
   "source": [
    "# C# Revision Solution: Variables, Operators, Control Flow, Loops, and Functions\n",
    "\n",
    "## Instructions\n",
    "Work through the following exercises step by step. Each section contains explanations followed by exercises that you will need to complete by writing your own code. Run each cell as you go to test your understanding.\n",
    "\n",
    "---\n",
    "\n",
    "### 1. Variables\n",
    "\n",
    "#### Explanation:\n",
    "Variables store data values that can be modified or used throughout your program. In C#, variables must be declared with a **type** (e.g., `int`, `float`, `string`, `bool`).\n",
    "\n",
    "#### Task:\n",
    "1. Declare four variables:\n",
    "   - An integer to store a score.\n",
    "   - A float to store the player's health.\n",
    "   - A string to store the player's name.\n",
    "   - A boolean to track whether the game is over.\n",
    "\n",
    "2. Output each variable's value to the console."
   ]
  },
  {
   "cell_type": "code",
   "execution_count": null,
   "metadata": {
    "dotnet_interactive": {
     "language": "csharp"
    },
    "polyglot_notebook": {
     "kernelName": "csharp"
    }
   },
   "outputs": [],
   "source": [
    "// Exercise: Declare variables and output them to the console.\n",
    "// Complete this code by declaring appropriate variables and printing them.\n",
    "\n",
    "// Variable declaration and initialization\n",
    "int score = 100;          \n",
    "float health = 75.5f;      \n",
    "string playerName = \"Alex\";\n",
    "bool isGameOver = false;   \n",
    "\n",
    "// Output variables to console\n",
    "Console.WriteLine(\"Player Name: \" + playerName);\n",
    "Console.WriteLine(\"Score: \" + score);\n",
    "Console.WriteLine(\"Health: \" + health);\n",
    "Console.WriteLine(\"Is Game Over: \" + isGameOver);"
   ]
  },
  {
   "cell_type": "markdown",
   "metadata": {},
   "source": [
    "### 2. Operators\n",
    "\n",
    "#### Explanation:\n",
    "Operators are symbols used to perform operations on variables and values. These include **arithmetic** (`+`, `-`, `*`, `/`), **comparison** (`==`, `!=`, `>`, `<`), and **logical** (`&&`, `||`, `!`) operators.\n",
    "\n",
    "#### Task 1 (Arithmetic):\n",
    "1. Create two variables `score` and `bonus` (integer values).\n",
    "2. Use **arithmetic operators** to add them together and output the result as `totalScore`.\n",
    "3. Experiment with different arithmetic operators and values\n",
    "\n",
    "\n",
    "#### Task 2 (Comparison):\n",
    "1. Create a `bool` variable for the winner (example: `isWinner`)\n",
    "2. Create a `targetScore` value integer to use in the comparison\n",
    "3. Use a **comparison operator** to check if `score` is greater than the `targetScore` and output the result.\n",
    "- _PseudoCode Hint: `isWinner = score > targetScore;`_\n",
    "4. Use a **logical operators and bools** to check if the player is alive (`isAlive = true`) and has a key (`hasKey = false`), and output the result."
   ]
  },
  {
   "cell_type": "code",
   "execution_count": 5,
   "metadata": {
    "dotnet_interactive": {
     "language": "csharp"
    },
    "polyglot_notebook": {
     "kernelName": "csharp"
    }
   },
   "outputs": [
    {
     "name": "stdout",
     "output_type": "stream",
     "text": [
      "Total Score: 15\n",
      "Is Winner: True - Score: 15\n",
      "Can Open Door: False\n"
     ]
    }
   ],
   "source": [
    "// Exercise: Work with arithmetic, comparison, and logical operators.\n",
    "// Complete this code by using appropriate operators and printing the results.\n",
    "\n",
    "// Arithmetic Operators\n",
    "int score = 10;\n",
    "int bonus = 5;\n",
    "int totalScore = score + bonus;\n",
    "Console.WriteLine(\"Total Score: \" + totalScore);  // Output: 15\n",
    "\n",
    "// Comparison Operators\n",
    "bool isWinner;\n",
    "int targetScore = 10;\n",
    "\n",
    "isWinner = totalScore > targetScore;\n",
    "Console.WriteLine(\"Is Winner: \" + isWinner + \" - Score: \" + totalScore);  // Output: True and score\n",
    "\n",
    "// Logical Operators\n",
    "bool isAlive = true;\n",
    "bool hasKey = false;\n",
    "bool canOpenDoor = isAlive && hasKey;\n",
    "Console.WriteLine(\"Can Open Door: \" + canOpenDoor);  // Output: False"
   ]
  },
  {
   "cell_type": "markdown",
   "metadata": {},
   "source": [
    "### 3. Control Flow (If/Else and Switch)\n",
    "\n",
    "#### Explanation:\n",
    "Control flow statements like **if/else** and **switch** allow you to control the flow of the program based on conditions.\n",
    "\n",
    "#### Task 1 (If/Else):\n",
    "1. Write an `if` statement that checks if the player's health is above 0 and outputs \"Player is alive.\" Otherwise, output \"Player is dead.\"\n",
    "2. Write an `if` statement that uses a boolean to check if the \"Player is alive.\" Otherwise, output \"Player is dead.\" (make the player dead!)\n",
    "\n",
    "#### Task 2 (Switch):\n",
    "1. Use a `switch` statement to check the player's level. If the level is 1, output \"Easy mode.\" If it's 2, output \"Medium mode.\" If it's 3, output \"Hard mode.\" Otherwise, output \"Unknown mode.\""
   ]
  },
  {
   "cell_type": "code",
   "execution_count": 9,
   "metadata": {
    "dotnet_interactive": {
     "language": "csharp"
    },
    "polyglot_notebook": {
     "kernelName": "csharp"
    }
   },
   "outputs": [
    {
     "name": "stdout",
     "output_type": "stream",
     "text": [
      "Player is alive.\n",
      "Player is dead.\n"
     ]
    }
   ],
   "source": [
    "//Task 1\n",
    "// Exercise: Work with control flow using if/else.\n",
    "// Complete this code by implementing the control flow statements and printing the results.\n",
    "\n",
    "// ---- number control flow ----\n",
    "int health = 50;\n",
    "\n",
    "if (health > 0)\n",
    "{\n",
    "    Console.WriteLine(\"Player is alive.\");\n",
    "}\n",
    "else\n",
    "{\n",
    "    Console.WriteLine(\"Player is dead.\");\n",
    "}\n",
    "\n",
    "// ---- bool control flow ----\n",
    "bool alive = false;\n",
    "\n",
    "if(alive == true)\n",
    "{\n",
    "    Console.WriteLine(\"Player is alive.\");\n",
    "}\n",
    "else\n",
    "{\n",
    "    Console.WriteLine(\"Player is dead.\");\n",
    "}\n"
   ]
  },
  {
   "cell_type": "markdown",
   "metadata": {},
   "source": [
    "#### **Switch Statements**:\n",
    "- Use `switch` when multiple outcomes depend on a single variable."
   ]
  },
  {
   "cell_type": "code",
   "execution_count": 10,
   "metadata": {
    "dotnet_interactive": {
     "language": "csharp"
    },
    "polyglot_notebook": {
     "kernelName": "csharp"
    }
   },
   "outputs": [
    {
     "name": "stdout",
     "output_type": "stream",
     "text": [
      "Medium mode\r\n"
     ]
    }
   ],
   "source": [
    "//Task 2\n",
    "// Exercise: Work with control flow using witch statements.\n",
    "// Complete this code by implementing the control flow statements and printing the results.\n",
    "\n",
    "int level = 2;\n",
    "\n",
    "switch (level)\n",
    "{\n",
    "    case 1:\n",
    "        Console.WriteLine(\"Easy mode\");\n",
    "        break;\n",
    "    case 2:\n",
    "        Console.WriteLine(\"Medium mode\");\n",
    "        break;\n",
    "    case 3:\n",
    "        Console.WriteLine(\"Hard mode\");\n",
    "        break;\n",
    "    default:\n",
    "        Console.WriteLine(\"Unknown mode\");\n",
    "        break;\n",
    "}\n"
   ]
  },
  {
   "cell_type": "markdown",
   "metadata": {},
   "source": [
    "### 4. Loops (For and While)\n",
    "\n",
    "#### Explanation:\n",
    "Loops are used to repeat a block of code multiple times. **For loops** are used when the number of iterations is known, and **while loops** continue until a specified condition is no longer true.\n",
    "\n",
    "#### Task 1a:\n",
    "1. Use a `for` loop to print the numbers 1 to 5 to the console.\n",
    "2. Add another for loop and use a `int` to set the number of times the loop executes (eg. 15 + loopCount)\n",
    "#### Task 1b:\n",
    "1. Inside the second for loop add an `if` statement to check when ten loops are done and output it to the console\n",
    "2. _optional: add a `break;` inside the `if` to stop the loop executing. Comment/uncomment the `break` to see the difference\n"
   ]
  },
  {
   "cell_type": "code",
   "execution_count": null,
   "metadata": {
    "dotnet_interactive": {
     "language": "csharp"
    },
    "polyglot_notebook": {
     "kernelName": "csharp"
    }
   },
   "outputs": [
    {
     "name": "stdout",
     "output_type": "stream",
     "text": [
      "Iteration: 1\n",
      "Iteration: 2\n",
      "Iteration: 3\n",
      "Iteration: 4\n",
      "Iteration: 5\n",
      "------\n",
      "Iteration: 1\n",
      "Iteration: 2\n",
      "Iteration: 3\n",
      "Iteration: 4\n",
      "Iteration: 5\n",
      "Iteration: 6\n",
      "Iteration: 7\n",
      "Iteration: 8\n",
      "Iteration: 9\n",
      "Iteration: 10\n",
      "Ten Loops Done!!\n"
     ]
    }
   ],
   "source": [
    "// TASK 1a and 1b\n",
    "// Exercise: Work with for loops.\n",
    "// Complete this code by implementing the loops and printing the results.\n",
    "\n",
    "for (int i = 1; i <= 5; i++)\n",
    "{\n",
    "    Console.WriteLine(\"Iteration: \" + i);\n",
    "}\n",
    "\n",
    "Console.WriteLine(\"------\");\n",
    "\n",
    "int loopCount = 15;\n",
    "\n",
    "for (int i = 1; i <= loopCount; i++)\n",
    "{\n",
    "    Console.WriteLine(\"Iteration: \" + i);\n",
    "\n",
    "    if(i==10)\n",
    "    {\n",
    "        Console.WriteLine(\"Ten Loops Done!!\");\n",
    "        break;\n",
    "    }\n",
    "}"
   ]
  },
  {
   "cell_type": "markdown",
   "metadata": {},
   "source": [
    "#### Task 2:\n",
    "1. Use a `while` loop to print the value of a counter starting from 0 and stopping when the counter reaches 3."
   ]
  },
  {
   "cell_type": "markdown",
   "metadata": {},
   "source": [
    "#### **While Loops**:\n",
    "- `while` loops continue as long as a condition is true."
   ]
  },
  {
   "cell_type": "code",
   "execution_count": 12,
   "metadata": {
    "dotnet_interactive": {
     "language": "csharp"
    },
    "polyglot_notebook": {
     "kernelName": "csharp"
    }
   },
   "outputs": [
    {
     "name": "stdout",
     "output_type": "stream",
     "text": [
      "Counter: 0\n",
      "Counter: 1\n",
      "Counter: 2\n"
     ]
    }
   ],
   "source": [
    "//TASK 2\n",
    "// Exercise: Work with while loops.\n",
    "// Complete this code by implementing the loops and printing the results.\n",
    "\n",
    "int counter = 0;\n",
    "\n",
    "while (counter < 3)\n",
    "{\n",
    "    Console.WriteLine(\"Counter: \" + counter);\n",
    "    counter++;\n",
    "}"
   ]
  },
  {
   "cell_type": "markdown",
   "metadata": {},
   "source": [
    "### 5. Functions and Parameters\n",
    "\n",
    "#### Explanation:\n",
    "Functions allow you to group and reuse code. Functions can take parameters and return values. You can pass data into functions and get results back.\n",
    "\n",
    "#### Task:\n",
    "1. Create a function `GreetPlayer` that takes no parameters and prints \"Welcome, Player!\" to the console.\n",
    "2. Create a function `AddScore` that takes two integers as parameters (`score` and `bonus`) and outputs the total score.\n",
    "3. Create a function `Multiply` that takes two integers as parameters, multiplies them, and returns the result. Call the function and print the result."
   ]
  },
  {
   "cell_type": "code",
   "execution_count": 13,
   "metadata": {
    "dotnet_interactive": {
     "language": "csharp"
    },
    "polyglot_notebook": {
     "kernelName": "csharp"
    }
   },
   "outputs": [
    {
     "name": "stdout",
     "output_type": "stream",
     "text": [
      "Welcome, Player!\r\n"
     ]
    }
   ],
   "source": [
    "//TASK 1\n",
    "// Exercise: Work with functions\n",
    "// Complete this code by defining and calling the functions.\n",
    "\n",
    "\n",
    "// Function with no parameters\n",
    "void GreetPlayer()\n",
    "{\n",
    "    Console.WriteLine(\"Welcome, Player!\");\n",
    "}\n",
    "\n",
    "// Call the function\n",
    "GreetPlayer();  // Output: Welcome, Player!"
   ]
  },
  {
   "cell_type": "markdown",
   "metadata": {},
   "source": [
    "#### **Passing Parameters to Functions**:\n",
    "- Functions can accept values as 'parameters' or 'arguements'"
   ]
  },
  {
   "cell_type": "code",
   "execution_count": 15,
   "metadata": {
    "dotnet_interactive": {
     "language": "csharp"
    },
    "polyglot_notebook": {
     "kernelName": "csharp"
    }
   },
   "outputs": [
    {
     "name": "stdout",
     "output_type": "stream",
     "text": [
      "Total Score: 70\r\n"
     ]
    }
   ],
   "source": [
    "//TASK 2\n",
    "// Exercise: Work with functions and parameters\n",
    "// Complete this code by defining and calling the function with parameters.\n",
    "\n",
    "// Function with parameters\n",
    "void AddScore(int score, int bonus)\n",
    "{\n",
    "    int totalScore = score + bonus;\n",
    "    Console.WriteLine(\"Total Score: \" + totalScore);\n",
    "}\n",
    "\n",
    "// Call the function\n",
    "AddScore(50, 20);  // Output: Total Score: 70"
   ]
  },
  {
   "cell_type": "markdown",
   "metadata": {},
   "source": [
    "#### **Returning Values from Functions**:\n",
    "- Functions can return values using `return`."
   ]
  },
  {
   "cell_type": "code",
   "execution_count": 21,
   "metadata": {
    "dotnet_interactive": {
     "language": "csharp"
    },
    "polyglot_notebook": {
     "kernelName": "csharp"
    }
   },
   "outputs": [
    {
     "name": "stdout",
     "output_type": "stream",
     "text": [
      "Multiplication Result : 12\r\n"
     ]
    }
   ],
   "source": [
    "//TASK 3\n",
    "// Exercise: Work with functions, parameters and returns values\n",
    "// Complete this code by defining and calling the functions.\n",
    "\n",
    "// Function that returns a value\n",
    "int Multiply(int a, int b)\n",
    "{\n",
    "    return a * b;\n",
    "}\n",
    "\n",
    "// Call the function and store the result\n",
    "int result = Multiply(3, 4);\n",
    "Console.WriteLine(\"Multiplication Result : \" + result);"
   ]
  },
  {
   "cell_type": "markdown",
   "metadata": {},
   "source": [
    "---\n",
    "### Exercises Complete!"
   ]
  },
  {
   "cell_type": "code",
   "execution_count": 20,
   "metadata": {
    "dotnet_interactive": {
     "language": "csharp"
    },
    "polyglot_notebook": {
     "kernelName": "csharp"
    }
   },
   "outputs": [
    {
     "name": "stdout",
     "output_type": "stream",
     "text": [
      "\n",
      " /\\_/\\  \n",
      "( o.o ) \n",
      " > ^ <\n",
      "\n",
      "🎉🎉 Congratulations on completing the exercises! 🎉🎉\n",
      "These core concepts are the fundamental components of programming and always good to practice\n",
      "Having a good grasp of them will make you ready to tackle more advanced C# concepts in game programming!\n",
      "Keep up the great work, and happy coding! 🚀\n"
     ]
    }
   ],
   "source": [
    "// Congratulations Message with ASCII Art\n",
    "\n",
    "Console.WriteLine(@\"\n",
    " /\\_/\\  \n",
    "( o.o ) \n",
    " > ^ <\n",
    "\");\n",
    "\n",
    "Console.WriteLine(\"🎉🎉 Congratulations on completing the exercises! 🎉🎉\");\n",
    "Console.WriteLine(\"These core concepts are the fundamental components of programming and always good to practice\");\n",
    "Console.WriteLine(\"Having a good grasp of them will make you ready to tackle more advanced C# concepts in game programming!\");\n",
    "Console.WriteLine(\"Keep up the great work, and happy coding! 🚀\");"
   ]
  }
 ],
 "metadata": {
  "kernelspec": {
   "display_name": ".NET (C#)",
   "language": "C#",
   "name": ".net-csharp"
  },
  "polyglot_notebook": {
   "kernelInfo": {
    "defaultKernelName": "csharp",
    "items": [
     {
      "aliases": [],
      "languageName": "csharp",
      "name": "csharp"
     }
    ]
   }
  }
 },
 "nbformat": 4,
 "nbformat_minor": 2
}
