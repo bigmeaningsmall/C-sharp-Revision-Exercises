{
 "cells": [
  {
   "cell_type": "markdown",
   "metadata": {},
   "source": [
    "### **Bonus Exercise: Create a Simple Game Loop**\n",
    "\n",
    "#### **Task**:\n",
    "Create a **simple text-based game loop** where the player tries to guess a secret number. The game should:\n",
    "1. **Generate a random number** between 1 and 10.\n",
    "2. Allow the player to **guess the number**.\n",
    "3. Give feedback like **“Too high!”** or **“Too low!”** after each guess.\n",
    "4. **End the game** when the player guesses correctly, and print the number of attempts it took to win.\n",
    "5. Ask the player if they want to **play again** after the game ends.\n",
    "\n",
    "#### **Hints**:\n",
    "- Use a **`while` loop** to keep the game running until the correct guess.\n",
    "- Use **`Random`** to generate a random number.\n",
    "- Use an **`if/else` statement** to check the player’s guess and give feedback.\n",
    "- Keep track of the number of attempts with a **variable**.\n",
    "\n",
    "#### **Extra Challenge**:\n",
    "- Add a **limit of 3 attempts** before the player loses.\n",
    "- Add a simple **score system** that rewards the player for guessing correctly on the first try, second try, etc.\n"
   ]
  },
  {
   "cell_type": "code",
   "execution_count": 11,
   "metadata": {
    "dotnet_interactive": {
     "language": "csharp"
    },
    "polyglot_notebook": {
     "kernelName": "csharp"
    }
   },
   "outputs": [],
   "source": [
    "// Bonus: Simple Number Guessing Game\n",
    "\n",
    "// Bonus: Simple Guessing Game without Console Input (Polyglot-Compatible)\n",
    "\n",
    "Random random = new Random();\n",
    "int secretNumber = random.Next(1, 11);  // Generates a random number between 1 and 10\n",
    "int[] guesses = { 3, 7, 9 };           // Simulated guesses\n",
    "bool hasGuessed = false;\n",
    "\n",
    "Console.WriteLine(\"Welcome to the Guessing Game! The secret number is between 1 and 10.\");\n",
    "\n",
    "//YOUR CODE HERE\n",
    "// Loop through the guesses and check if the player has guessed correctly or not\n",
    "\n",
    "\n",
    "\n",
    "// Check if the player failed after 3 attempts and display the secret number if they did not guess correctly\n",
    "\n",
    "\n"
   ]
  }
 ],
 "metadata": {
  "kernelspec": {
   "display_name": ".NET (C#)",
   "language": "C#",
   "name": ".net-csharp"
  },
  "polyglot_notebook": {
   "kernelInfo": {
    "defaultKernelName": "csharp",
    "items": [
     {
      "aliases": [],
      "languageName": "csharp",
      "name": "csharp"
     }
    ]
   }
  }
 },
 "nbformat": 4,
 "nbformat_minor": 2
}
