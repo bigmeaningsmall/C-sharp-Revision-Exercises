{
 "cells": [
  {
   "cell_type": "markdown",
   "metadata": {},
   "source": [
    "### **Event Tutorial: Part 1 - Understanding Events**\n",
    "\n",
    "#### **What is an Event?**\n",
    "An **event** in C# is a way for an object (the publisher) to notify other objects (subscribers) when something of interest occurs. Events are built upon **delegates** and are used extensively for handling user interactions, state changes, and inter-object communication.\n",
    "\n",
    "#### **When to Use Events?**\n",
    "- When you want a class to **broadcast a message** to other classes without knowing who the recipients are.\n",
    "- To implement a **subscriber-publisher model** where one object raises an event, and others respond to it.\n",
    "- For scenarios like UI controls (e.g., button clicks), game mechanics (e.g., receiving damage), and real-time notifications.\n",
    "\n",
    "---\n"
   ]
  },
  {
   "cell_type": "markdown",
   "metadata": {},
   "source": [
    "### **Step 1: Defining a Delegate for the Event**\n",
    "\n",
    "We’ll start by defining a delegate that represents the signature of methods that will handle our event.\n",
    "\n",
    "```csharp\n",
    "// Define a delegate for the event handler that takes an integer parameter \n",
    "public delegate void DamageEventHandler(int damageAmount);\n",
    "```\n",
    "\n",
    "### **Instructions:**\n",
    "1. **Type out the code above** in a new cell to define the delegate.\n",
    "2. **Run the cell** to confirm that the delegate is defined correctly.\n",
    "3. This delegate will serve as a template for methods that handle damage events.\n",
    "\n",
    "---\n"
   ]
  },
  {
   "cell_type": "code",
   "execution_count": 1,
   "metadata": {
    "dotnet_interactive": {
     "language": "csharp"
    },
    "polyglot_notebook": {
     "kernelName": "csharp"
    }
   },
   "outputs": [],
   "source": [
    "// Define a delegate for the event handler that takes an integer parameter\n",
    "public delegate void DamageEventHandler(int damageAmount);"
   ]
  },
  {
   "cell_type": "markdown",
   "metadata": {},
   "source": [
    "### **Step 2: Create a `DamageDealer` Class to Publish an Event**\n",
    "\n",
    "Now we’ll create a `DamageDealer` class that raises an event when it deals damage.\n",
    "\n",
    "```csharp\n",
    "// Define a class that publishes an event \n",
    "public class DamageDealer\n",
    "{\n",
    "    // Declare the event using the delegate\n",
    "    public event DamageEventHandler OnDamageDealt;\n",
    "\n",
    "    // Method to deal damage and raise the event\n",
    "    public void DealDamage(int amount)\n",
    "    {\n",
    "        Console.WriteLine($\"DamageDealer is dealing {amount} damage.\");\n",
    "        \n",
    "        // Raise the event, if there are any subscribers\n",
    "        if (OnDamageDealt != null)\n",
    "        {\n",
    "            OnDamageDealt(amount);\n",
    "        }\n",
    "    }\n",
    "}\n",
    "```\n",
    "\n",
    "### **Instructions:**\n",
    "1. **Type out the `DamageDealer` class** in a new cell.\n",
    "2. The class has an event `OnDamageDealt` based on the `DamageEventHandler` delegate.\n",
    "3. The `DealDamage(int amount)` method raises the `OnDamageDealt` event whenever it deals damage.\n",
    "4. **Run the cell** to compile the class.\n",
    "\n",
    "---\n"
   ]
  },
  {
   "cell_type": "code",
   "execution_count": 2,
   "metadata": {
    "dotnet_interactive": {
     "language": "csharp"
    },
    "polyglot_notebook": {
     "kernelName": "csharp"
    }
   },
   "outputs": [],
   "source": [
    "// Define a class that publishes an event\n",
    "public class DamageDealer\n",
    "{\n",
    "    // Declare the event using the delegate\n",
    "    public event DamageEventHandler OnDamageDealt;\n",
    "\n",
    "    // Method to deal damage and raise the event\n",
    "    public void DealDamage(int amount)\n",
    "    {\n",
    "        Console.WriteLine($\"DamageDealer is dealing {amount} damage.\");\n",
    "        \n",
    "        // Raise the event, if there are any subscribers\n",
    "        if (OnDamageDealt != null)\n",
    "        {\n",
    "            OnDamageDealt(amount);\n",
    "        }\n",
    "    }\n",
    "}"
   ]
  },
  {
   "cell_type": "markdown",
   "metadata": {},
   "source": [
    "### **Step 3: Create a `DamageReceiver` Class to Subscribe to the Event**\n",
    "\n",
    "Next, we’ll create a `DamageReceiver` class that subscribes to the `OnDamageDealt` event and reacts to it by updating its health.\n",
    "\n",
    "```csharp\n",
    "// Define a class that subscribes to the event \n",
    "public class DamageReceiver\n",
    "{\n",
    "    public int Health { get; private set; }\n",
    "\n",
    "    // Constructor to initialize health\n",
    "    public DamageReceiver(int initialHealth)\n",
    "    {\n",
    "        Health = initialHealth;\n",
    "    }\n",
    "\n",
    "    // Method to handle the event when damage is received\n",
    "    public void OnDamageReceived(int amount)\n",
    "    {\n",
    "        Health -= amount;\n",
    "        Console.WriteLine($\"DamageReceiver received {amount} damage. Health is now: {Health}\");\n",
    "    }\n",
    "}\n",
    "```\n",
    "\n",
    "### **Instructions:**\n",
    "1. **Type out the `DamageReceiver` class** in a new cell.\n",
    "2. The class includes an `OnDamageReceived(int amount)` method that matches the `DamageEventHandler` signature.\n",
    "3. This method updates the `Health` property whenever damage is received.\n",
    "4. **Run the cell** to compile the class.\n",
    "\n",
    "---\n"
   ]
  },
  {
   "cell_type": "code",
   "execution_count": 3,
   "metadata": {
    "dotnet_interactive": {
     "language": "csharp"
    },
    "polyglot_notebook": {
     "kernelName": "csharp"
    }
   },
   "outputs": [],
   "source": [
    "// Define a class that subscribes to the event\n",
    "public class DamageReceiver\n",
    "{\n",
    "    public int Health { get; private set; }\n",
    "\n",
    "    // Constructor to initialize health\n",
    "    public DamageReceiver(int initialHealth)\n",
    "    {\n",
    "        Health = initialHealth;\n",
    "    }\n",
    "\n",
    "    // Method to handle the event when damage is received\n",
    "    public void OnDamageReceived(int amount)\n",
    "    {\n",
    "        Health -= amount;\n",
    "        Console.WriteLine($\"DamageReceiver received {amount} damage. Health is now: {Health}\");\n",
    "    }\n",
    "}"
   ]
  },
  {
   "cell_type": "markdown",
   "metadata": {},
   "source": [
    "### **Step 4: Create a Test Class to Run the Event Example**\n",
    "\n",
    "Now we’ll create a `TestEventExample` class to tie everything together and demonstrate how events work in action.\n",
    "\n",
    "```csharp\n",
    "// Test class to run the event example\n",
    "public class TestEventExample\n",
    "{\n",
    "    public static void RunTest()\n",
    "    {\n",
    "        // Create a DamageDealer and a DamageReceiver\n",
    "        DamageDealer dealer = new DamageDealer();\n",
    "        DamageReceiver receiver = new DamageReceiver(100);\n",
    "\n",
    "        // Subscribe the receiver's OnDamageReceived method to the dealer's OnDamageDealt event\n",
    "        dealer.OnDamageDealt += receiver.OnDamageReceived;\n",
    "\n",
    "        // Deal some damage, which will trigger the event\n",
    "        dealer.DealDamage(20);\n",
    "        dealer.DealDamage(30);\n",
    "    }\n",
    "}\n",
    "\n",
    "// Call the test method to run the code\n",
    "TestEventExample.RunTest();\n",
    "```\n",
    "\n",
    "### **Instructions:**\n",
    "1. **Type out the `TestEventExample` class** in a new cell.\n",
    "2. Create an instance of `DamageDealer` and `DamageReceiver`.\n",
    "3. Subscribe the receiver’s `OnDamageReceived` method to the dealer’s `OnDamageDealt` event using `+=`.\n",
    "4. When `dealer.DealDamage(20)` is called, the `OnDamageDealt` event is raised, and `OnDamageReceived` is invoked.\n",
    "5. **Run the cell** to see the event in action!\n",
    "\n",
    "**Expected Output**:\n",
    "```\n",
    "DamageDealer is dealing 20 damage.\n",
    "DamageReceiver received 20 damage. Health is now: 80\n",
    "DamageDealer is dealing 30 damage.\n",
    "DamageReceiver received 30 damage. Health is now: 50\n",
    "```\n",
    "\n",
    "---\n"
   ]
  },
  {
   "cell_type": "code",
   "execution_count": 4,
   "metadata": {
    "dotnet_interactive": {
     "language": "csharp"
    },
    "polyglot_notebook": {
     "kernelName": "csharp"
    }
   },
   "outputs": [
    {
     "name": "stdout",
     "output_type": "stream",
     "text": [
      "DamageDealer is dealing 20 damage.\n",
      "DamageReceiver received 20 damage. Health is now: 80\n",
      "DamageDealer is dealing 30 damage.\n",
      "DamageReceiver received 30 damage. Health is now: 50\n"
     ]
    }
   ],
   "source": [
    "// Test class to run the event example\n",
    "public class TestEventExample\n",
    "{\n",
    "    public static void RunTest()\n",
    "    {\n",
    "        // Create a DamageDealer and a DamageReceiver\n",
    "        DamageDealer dealer = new DamageDealer();\n",
    "        DamageReceiver receiver = new DamageReceiver(100);\n",
    "\n",
    "        // Subscribe the receiver's OnDamageReceived method to the dealer's OnDamageDealt event\n",
    "        dealer.OnDamageDealt += receiver.OnDamageReceived;\n",
    "\n",
    "        // Deal some damage, which will trigger the event\n",
    "        dealer.DealDamage(20);\n",
    "        dealer.DealDamage(30);\n",
    "    }\n",
    "}\n",
    "\n",
    "// Call the test method to run the code\n",
    "TestEventExample.RunTest();"
   ]
  },
  {
   "cell_type": "markdown",
   "metadata": {},
   "source": [
    "\n",
    "---\n",
    "\n",
    "### **Extended Challenge: Extending the Event Example**\n",
    "\n",
    "1. **Create Additional Receivers**:\n",
    "   - Create more classes like `ShieldReceiver` that reduces damage based on shields or `ReflectReceiver` that reflects damage back.\n",
    "\n",
    "2. **Test with Multiple Subscribers**:\n",
    "   - Create multiple `DamageReceiver` objects and subscribe them all to the same `OnDamageDealt` event.\n",
    "   - See how each one reacts independently to the same event being raised.\n",
    "\n",
    "3. **Unsubscribe from the Event**:\n",
    "   - Use the `-=` operator to unsubscribe a method from the event and test how it behaves without a subscriber.\n",
    "\n",
    "```csharp\n",
    "// Unsubscribe a method from the event\n",
    "dealer.OnDamageDealt -= receiver.OnDamageReceived;\n",
    "dealer.DealDamage(50); // No subscribers will react to this damage\n",
    "```\n",
    "\n",
    "---"
   ]
  },
  {
   "cell_type": "markdown",
   "metadata": {},
   "source": [
    "**1. Create the `Notifier` Class**"
   ]
  },
  {
   "cell_type": "code",
   "execution_count": 5,
   "metadata": {
    "dotnet_interactive": {
     "language": "csharp"
    },
    "polyglot_notebook": {
     "kernelName": "csharp"
    }
   },
   "outputs": [],
   "source": [
    "using System;\n",
    "\n",
    "// Class that publishes an event\n",
    "public class Notifier\n",
    "{\n",
    "    // Define the delegate and event\n",
    "    public delegate void NotifyEventHandler(int damageAmount);\n",
    "    public event NotifyEventHandler OnNotify;\n",
    "\n",
    "    // Method to raise the event\n",
    "    public void DealDamage(int amount)\n",
    "    {\n",
    "        Console.WriteLine($\"Notifier is dealing {amount} damage.\");\n",
    "\n",
    "        // Raise the event if there are any subscribers\n",
    "        OnNotify?.Invoke(amount);\n",
    "    }\n",
    "}"
   ]
  },
  {
   "cell_type": "markdown",
   "metadata": {},
   "source": [
    "**2. Create the `ShieldReceiver` Class**"
   ]
  },
  {
   "cell_type": "code",
   "execution_count": 6,
   "metadata": {
    "dotnet_interactive": {
     "language": "csharp"
    },
    "polyglot_notebook": {
     "kernelName": "csharp"
    }
   },
   "outputs": [],
   "source": [
    "// Class that responds to the event and absorbs damage with a shield\n",
    "public class ShieldReceiver\n",
    "{\n",
    "    public int Health { get; private set; }\n",
    "    public int Shield { get; private set; }\n",
    "\n",
    "    // Constructor to initialize health and shield\n",
    "    public ShieldReceiver(int initialHealth, int initialShield)\n",
    "    {\n",
    "        Health = initialHealth;\n",
    "        Shield = initialShield;\n",
    "    }\n",
    "\n",
    "    // Method to handle the event\n",
    "    public void OnDamageReceived(int amount)\n",
    "    {\n",
    "        int effectiveDamage = amount;\n",
    "        if (Shield > 0)\n",
    "        {\n",
    "            effectiveDamage -= Shield;\n",
    "            Shield = Math.Max(0, Shield - amount);\n",
    "            Console.WriteLine($\"Shield absorbed damage! Remaining shield: {Shield}\");\n",
    "        }\n",
    "\n",
    "        Health -= Math.Max(0, effectiveDamage);\n",
    "        Console.WriteLine($\"ShieldReceiver received {amount} damage. Health is now: {Health}\");\n",
    "    }\n",
    "}"
   ]
  },
  {
   "cell_type": "markdown",
   "metadata": {},
   "source": [
    "### **3. Create the `DamageReceiver` Class**"
   ]
  },
  {
   "cell_type": "code",
   "execution_count": 7,
   "metadata": {
    "dotnet_interactive": {
     "language": "csharp"
    },
    "polyglot_notebook": {
     "kernelName": "csharp"
    }
   },
   "outputs": [],
   "source": [
    "// Class that responds to the event and reduces health directly\n",
    "public class DamageReceiver\n",
    "{\n",
    "    public int Health { get; private set; }\n",
    "\n",
    "    // Constructor to initialize health\n",
    "    public DamageReceiver(int initialHealth)\n",
    "    {\n",
    "        Health = initialHealth;\n",
    "    }\n",
    "\n",
    "    // Method to handle the event\n",
    "    public void OnDamageReceived(int amount)\n",
    "    {\n",
    "        Health -= amount;\n",
    "        Console.WriteLine($\"DamageReceiver received {amount} damage. Health is now: {Health}\");\n",
    "    }\n",
    "}"
   ]
  },
  {
   "cell_type": "markdown",
   "metadata": {},
   "source": [
    "**4. Create a Second `DamageReceiver` Class (Optional)**"
   ]
  },
  {
   "cell_type": "code",
   "execution_count": 8,
   "metadata": {
    "dotnet_interactive": {
     "language": "csharp"
    },
    "polyglot_notebook": {
     "kernelName": "csharp"
    }
   },
   "outputs": [],
   "source": [
    "// Another DamageReceiver class to show multiple subscribers\n",
    "public class DamageReceiver2\n",
    "{\n",
    "    public int Health { get; private set; }\n",
    "\n",
    "    // Constructor to initialize health\n",
    "    public DamageReceiver2(int initialHealth)\n",
    "    {\n",
    "        Health = initialHealth;\n",
    "    }\n",
    "\n",
    "    // Method to handle the event\n",
    "    public void OnDamageReceived(int amount)\n",
    "    {\n",
    "        Health -= amount;\n",
    "        Console.WriteLine($\"DamageReceiver2 received {amount} damage. Health is now: {Health}\");\n",
    "    }\n",
    "}"
   ]
  },
  {
   "cell_type": "markdown",
   "metadata": {},
   "source": [
    "**5. Test the Event and Unsubscribe**"
   ]
  },
  {
   "cell_type": "code",
   "execution_count": 9,
   "metadata": {
    "dotnet_interactive": {
     "language": "csharp"
    },
    "polyglot_notebook": {
     "kernelName": "csharp"
    }
   },
   "outputs": [
    {
     "name": "stdout",
     "output_type": "stream",
     "text": [
      "Notifier is dealing 30 damage.\n",
      "Shield absorbed damage! Remaining shield: 20\n",
      "ShieldReceiver received 30 damage. Health is now: 100\n",
      "DamageReceiver received 30 damage. Health is now: 70\n",
      "DamageReceiver2 received 30 damage. Health is now: 70\n",
      "\n",
      "Unsubscribing DamageReceiver...\n",
      "\n",
      "Notifier is dealing 50 damage.\n",
      "Shield absorbed damage! Remaining shield: 0\n",
      "ShieldReceiver received 50 damage. Health is now: 70\n",
      "DamageReceiver2 received 50 damage. Health is now: 20\n"
     ]
    }
   ],
   "source": [
    "// Test class to demonstrate event handling\n",
    "public class TestSimpleEvent\n",
    "{\n",
    "    public static void RunTest()\n",
    "    {\n",
    "        // Create a Notifier and receivers\n",
    "        Notifier notifier = new Notifier();\n",
    "        ShieldReceiver shieldReceiver = new ShieldReceiver(100, 50); // 100 health, 50 shield\n",
    "        DamageReceiver damageReceiver = new DamageReceiver(100);      // 100 health\n",
    "        DamageReceiver2 damageReceiver2 = new DamageReceiver2(100);   // 100 health\n",
    "\n",
    "        // Subscribe all receivers to the event\n",
    "        notifier.OnNotify += shieldReceiver.OnDamageReceived;\n",
    "        notifier.OnNotify += damageReceiver.OnDamageReceived;\n",
    "        notifier.OnNotify += damageReceiver2.OnDamageReceived;\n",
    "\n",
    "        // Deal some damage, all receivers will respond\n",
    "        notifier.DealDamage(30);\n",
    "        \n",
    "        Console.WriteLine(\"\\nUnsubscribing DamageReceiver...\\n\");\n",
    "\n",
    "        // Unsubscribe damageReceiver from the event\n",
    "        notifier.OnNotify -= damageReceiver.OnDamageReceived;\n",
    "\n",
    "        // Deal damage again, only shieldReceiver and damageReceiver2 will respond\n",
    "        notifier.DealDamage(50);\n",
    "    }\n",
    "}\n",
    "\n",
    "// Call the test method to run the code\n",
    "TestSimpleEvent.RunTest();"
   ]
  },
  {
   "cell_type": "markdown",
   "metadata": {},
   "source": [
    "### **Expected Output**:\n",
    "```\n",
    "Notifier is dealing 30 damage.\n",
    "Shield absorbed damage! Remaining shield: 20\n",
    "ShieldReceiver received 30 damage. Health is now: 100\n",
    "DamageReceiver received 30 damage. Health is now: 70\n",
    "DamageReceiver2 received 30 damage. Health is now: 70\n",
    "\n",
    "Unsubscribing DamageReceiver...\n",
    "\n",
    "Notifier is dealing 50 damage.\n",
    "Shield absorbed damage! Remaining shield: 0\n",
    "ShieldReceiver received 50 damage. Health is now: 80\n",
    "DamageReceiver2 received 50 damage. Health is now: 20\n",
    "```\n",
    "\n",
    "### **Explanation**:\n",
    "\n",
    "1. **Step 1**: Create a `Notifier` class with an event `OnNotify`.\n",
    "2. **Step 2**: Create a `ShieldReceiver` class that absorbs damage using a shield before applying it to health.\n",
    "3. **Step 3**: Create a `DamageReceiver` class that directly reduces health.\n",
    "4. **Step 4**: Create a second `DamageReceiver` class to show multiple subscribers.\n",
    "5. **Step 5**: Test the event handling by subscribing all receivers to `notifier.OnNotify` and dealing damage.\n",
    "6. **Unsubscribe**: Remove `damageReceiver.OnDamageReceived` from the event, so it no longer responds.\n",
    "\n",
    "---"
   ]
  },
  {
   "cell_type": "code",
   "execution_count": null,
   "metadata": {
    "dotnet_interactive": {
     "language": "csharp"
    },
    "polyglot_notebook": {
     "kernelName": "csharp"
    }
   },
   "outputs": [
    {
     "name": "stdout",
     "output_type": "stream",
     "text": [
      "       \n",
      "       /\\_____/\\\n",
      "      /  o     o\\\n",
      "     ( ==  ^  == ) \n",
      "     )   ~~~~   ( \n",
      "    /             \\\n",
      "   /  Events!      \\\n",
      "  (                )\n",
      "   \\_______________/\r\n"
     ]
    }
   ],
   "source": [
    "// Cat ASCII Art in C#\n",
    "Console.WriteLine(@\"       \n",
    "       /\\_____/\\\n",
    "      /  o     o\\\n",
    "     ( ==  ^  == ) \n",
    "     )   ~~~~   ( \n",
    "    /             \\\n",
    "   /    Events!   \\\n",
    "  (                )\n",
    "   \\_______________/\");"
   ]
  }
 ],
 "metadata": {
  "kernelspec": {
   "display_name": ".NET (C#)",
   "language": "C#",
   "name": ".net-csharp"
  },
  "polyglot_notebook": {
   "kernelInfo": {
    "defaultKernelName": "csharp",
    "items": [
     {
      "aliases": [],
      "languageName": "csharp",
      "name": "csharp"
     }
    ]
   }
  }
 },
 "nbformat": 4,
 "nbformat_minor": 2
}
