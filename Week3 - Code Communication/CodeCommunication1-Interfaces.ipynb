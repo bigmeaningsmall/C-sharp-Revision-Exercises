{
 "cells": [
  {
   "cell_type": "markdown",
   "metadata": {},
   "source": [
    "### **Interface Tutorial: Part 1 - Understanding Interfaces**\n",
    "\n",
    "#### **What is an Interface?**\n",
    "An **interface** in C# is like a contract that defines a set of methods or properties that a class must implement. However, it doesn’t contain any implementation details itself. Interfaces are used to define behaviours that can be shared across multiple classes, making your code more modular and maintainable.\n",
    "\n",
    "#### **When to Use Interfaces?**\n",
    "- When you want to enforce certain methods to be implemented by multiple classes.\n",
    "- To establish common functionality between unrelated classes.\n",
    "- To enable **polymorphism**, allowing you to treat different objects in a consistent way.\n",
    "\n",
    "#### **Step 1: Defining an Interface**\n",
    "\n",
    "Let's start by creating an interface called `IDamagable`. This interface will have a single method `TakeDamage(int amount)` which can be implemented by any class that needs to react to damage in some way.\n",
    "\n",
    "```C#\n",
    "// Define the IDamagable interface\n",
    "public interface IDamagable\n",
    "{\n",
    "    void TakeDamage(int amount);\n",
    "}\n",
    "```"
   ]
  },
  {
   "cell_type": "markdown",
   "metadata": {},
   "source": [
    "### **Instructions:**\n",
    "1. **Type out the code above** into a new Polyglot C# notebook cell.\n",
    "2. **Run the cell** to see how the interface is defined.\n",
    "3. The `IDamagable` interface doesn’t do anything on its own because it doesn’t have an implementation—only a definition. In the next step, we will create classes that implement this interface."
   ]
  },
  {
   "cell_type": "code",
   "execution_count": null,
   "metadata": {
    "dotnet_interactive": {
     "language": "csharp"
    },
    "polyglot_notebook": {
     "kernelName": "csharp"
    }
   },
   "outputs": [],
   "source": [
    "\n",
    "// Define the IDamagable interface\n",
    "\n"
   ]
  },
  {
   "cell_type": "markdown",
   "metadata": {},
   "source": [
    "\n",
    "---\n",
    "\n",
    "### **Step 2: Implementing the Interface in a Class**\n",
    "\n",
    "Now, we will create a `Player` class that implements the `IDamagable` interface. This means that the `Player` class must provide its own version of the `TakeDamage` method.\n",
    "\n",
    "```C#\n",
    "// Define a Player class that implements IDamagable\n",
    "public class Player : IDamagable\n",
    "{\n",
    "    public int Health { get; private set; } = 100;\n",
    "\n",
    "    // Implement the TakeDamage method\n",
    "    public void TakeDamage(int amount)\n",
    "    {\n",
    "        Health -= amount;\n",
    "        Console.WriteLine($\"Player took {amount} damage. Remaining health: {Health}\");\n",
    "    }\n",
    "}\n",
    "```\n",
    "\n",
    "### **Instructions:**\n",
    "1. **Type out the `Player` class** in a new cell.\n",
    "2. Notice how the class uses `: IDamagable` to indicate it is implementing the interface.\n",
    "3. The `TakeDamage(int amount)` method is now provided with an implementation that decreases the player's health.\n",
    "4. Run the cell to see if the `Player` class compiles correctly."
   ]
  },
  {
   "cell_type": "code",
   "execution_count": null,
   "metadata": {
    "dotnet_interactive": {
     "language": "csharp"
    },
    "polyglot_notebook": {
     "kernelName": "csharp"
    }
   },
   "outputs": [],
   "source": [
    "// Define a Player class that implements IDamagable\n",
    "\n"
   ]
  },
  {
   "cell_type": "markdown",
   "metadata": {},
   "source": [
    "### **Step 3: Testing the Interface Implementation**\n",
    "\n",
    "Now that we have the `Player` class implementing `IDamagable`, let’s create an instance of `Player` and call `TakeDamage` on it.\n",
    "\n",
    "```csharp\n",
    "// Create a Player instance and call TakeDamage\n",
    "Player player = new Player();\n",
    "player.TakeDamage(20);\n",
    "```\n"
   ]
  },
  {
   "cell_type": "markdown",
   "metadata": {},
   "source": [
    "### **Instructions:**\n",
    "1. **Type out the code above** in a new cell to create a `Player` object and apply damage to it.\n",
    "2. When you run the cell, the output should display: `Player took 20 damage. Remaining health: 80`.\n",
    "3. Modify the `TakeDamage` call with different values to see how the health changes."
   ]
  },
  {
   "cell_type": "code",
   "execution_count": null,
   "metadata": {
    "dotnet_interactive": {
     "language": "csharp"
    },
    "polyglot_notebook": {
     "kernelName": "csharp"
    }
   },
   "outputs": [],
   "source": [
    "// Create a Player instance and call TakeDamage\n",
    "\n"
   ]
  },
  {
   "cell_type": "markdown",
   "metadata": {},
   "source": [
    "\n",
    "---\n",
    "\n",
    "### **Step 4: Extending the Interface**\n",
    "\n",
    "Let’s create another class, `Enemy`, that also implements the `IDamagable` interface, but with a different implementation.\n",
    "\n",
    "```csharp\n",
    "// Define an Enemy class that implements IDamagable\n",
    "public class Enemy : IDamagable\n",
    "{\n",
    "    public int Shield { get; private set; } = 50;\n",
    "\n",
    "    // Implement the TakeDamage method\n",
    "    public void TakeDamage(int amount)\n",
    "    {\n",
    "        Shield -= amount;\n",
    "        Console.WriteLine($\"Enemy took {amount} damage. Remaining shield: {Shield}\");\n",
    "    }\n",
    "}\n",
    "```"
   ]
  },
  {
   "cell_type": "markdown",
   "metadata": {},
   "source": [
    "### **Instructions:**\n",
    "1. **Type out the `Enemy` class** in a new cell, which implements the same `IDamagable` interface.\n"
   ]
  },
  {
   "cell_type": "code",
   "execution_count": null,
   "metadata": {
    "dotnet_interactive": {
     "language": "csharp"
    },
    "polyglot_notebook": {
     "kernelName": "csharp"
    }
   },
   "outputs": [],
   "source": [
    "// Define an Enemy class that implements IDamagable\n",
    "\n",
    "\n"
   ]
  },
  {
   "cell_type": "markdown",
   "metadata": {},
   "source": [
    "2. Run the code and create an instance of `Enemy` to see how it responds to `TakeDamage`.\n",
    "3. You should see an output similar to: `Enemy took 30 damage. Remaining shield: 20`.\n",
    "4. This demonstrates how different classes can implement the same interface in their own way."
   ]
  },
  {
   "cell_type": "code",
   "execution_count": null,
   "metadata": {
    "dotnet_interactive": {
     "language": "csharp"
    },
    "polyglot_notebook": {
     "kernelName": "csharp"
    }
   },
   "outputs": [],
   "source": [
    "//create a new Enemy instance and call TakeDamage\n",
    "\n"
   ]
  },
  {
   "cell_type": "markdown",
   "metadata": {},
   "source": [
    "\n",
    "\n",
    "---\n",
    "\n",
    "### **Challenge**:\n",
    "1: Create a method that accepts an `IDamagable` parameter and calls `TakeDamage` on it. This will help illustrate how interfaces enable polymorphism.\n",
    "2: Create additional classes that implement `IDamagable`, such as `Boss` or `Object`, each with their own version of the `TakeDamage` method.\n",
    "\n",
    "```csharp\n",
    "// Method that takes an IDamagable and applies damage\n",
    "void ApplyDamage(IDamagable target, int damage)\n",
    "{\n",
    "    target.TakeDamage(damage);\n",
    "}\n",
    "\n",
    "// Test the method with different classes\n",
    "ApplyDamage(player, 15);\n",
    "ApplyDamage(enemy, 25);\n",
    "```\n",
    "\n",
    "### **Expected Output**:\n",
    "- You should see messages indicating damage applied to both `Player` and `Enemy`.\n",
    "\n",
    "---\n",
    "\n",
    "This tutorial introduces the basics of interfaces and how to implement them in C#. Follow each step, type out the code in Polyglot, and experiment with additional classes and methods! "
   ]
  },
  {
   "cell_type": "code",
   "execution_count": null,
   "metadata": {
    "dotnet_interactive": {
     "language": "csharp"
    },
    "polyglot_notebook": {
     "kernelName": "csharp"
    }
   },
   "outputs": [],
   "source": [
    "// Method that takes an IDamagable and applies damage\n",
    "\n"
   ]
  },
  {
   "cell_type": "markdown",
   "metadata": {},
   "source": [
    "### **Extended Challenge: Polymorphism with Interfaces**\n",
    "\n",
    "1. **Create a `Boss` Class**:\n",
    "   - Implement the `IDamagable` interface and define a unique health or shield property.\n",
    "   - Override the `TakeDamage(int amount)` method to show a different reaction to taking damage.\n",
    "\n",
    "2. **Create an `Object` Class**:\n",
    "   - Implement the `IDamagable` interface.\n",
    "   - Define a simple `Durability` property and update it in the `TakeDamage(int amount)` method.\n",
    "\n",
    "3. **Apply Damage Using Polymorphism**:\n",
    "   - Use the `ApplyDamage(IDamagable target, int damage)` method to apply damage to each new class.\n",
    "   - Test how each class responds differently to the same method."
   ]
  },
  {
   "cell_type": "code",
   "execution_count": null,
   "metadata": {
    "dotnet_interactive": {
     "language": "csharp"
    },
    "polyglot_notebook": {
     "kernelName": "csharp"
    }
   },
   "outputs": [],
   "source": [
    "// Define the IDamagable interface (repeated) - this is the interface that all classes that can take damage will implement\n",
    "public interface IDamagable\n",
    "{\n",
    "    void TakeDamage(int amount);\n",
    "}"
   ]
  },
  {
   "cell_type": "code",
   "execution_count": null,
   "metadata": {
    "dotnet_interactive": {
     "language": "csharp"
    },
    "polyglot_notebook": {
     "kernelName": "csharp"
    }
   },
   "outputs": [],
   "source": [
    "// Create the Boss class that implements IDamagable\n",
    "\n",
    "\n"
   ]
  },
  {
   "cell_type": "code",
   "execution_count": null,
   "metadata": {
    "dotnet_interactive": {
     "language": "csharp"
    },
    "polyglot_notebook": {
     "kernelName": "csharp"
    }
   },
   "outputs": [],
   "source": [
    "// Create the Object class that implements IDamagable\n",
    "\n"
   ]
  },
  {
   "cell_type": "code",
   "execution_count": null,
   "metadata": {
    "dotnet_interactive": {
     "language": "csharp"
    },
    "polyglot_notebook": {
     "kernelName": "csharp"
    }
   },
   "outputs": [],
   "source": [
    "// Method that takes an IDamagable and applies damage\n",
    "\n",
    "\n"
   ]
  },
  {
   "cell_type": "markdown",
   "metadata": {},
   "source": [
    "---"
   ]
  },
  {
   "cell_type": "markdown",
   "metadata": {},
   "source": [
    "### **Explanation**:\n",
    "\n",
    "1. **Step 1 - `Boss` Class**:\n",
    "   - Implements `IDamagable`.\n",
    "   - Has a unique `Health` property.\n",
    "   - The `TakeDamage` method decreases `Health` and prints the status.\n",
    "\n",
    "2. **Step 2 - `Object` Class**:\n",
    "   - Implements `IDamagable`.\n",
    "   - Has a unique `Durability` property.\n",
    "   - The `TakeDamage` method decreases `Durability` and prints the status.\n",
    "\n",
    "3. **Step 3 - `ApplyDamage()` Method**:\n",
    "   - Accepts any object implementing `IDamagable`.\n",
    "   - Calls the `TakeDamage` method on the `target` and prints the status."
   ]
  },
  {
   "cell_type": "code",
   "execution_count": 1,
   "metadata": {
    "dotnet_interactive": {
     "language": "csharp"
    },
    "polyglot_notebook": {
     "kernelName": "csharp"
    }
   },
   "outputs": [
    {
     "name": "stdout",
     "output_type": "stream",
     "text": [
      "       \n",
      "       /\\_____/\\\n",
      "      /  o     o\\\n",
      "     ( ==  ^  == ) \n",
      "     )   ~~~~   ( \n",
      "    /             \\\n",
      "   /  Interfaces!   \\\n",
      "  (                 )\n",
      "   \\_______________/\r\n"
     ]
    }
   ],
   "source": [
    "// Interface Cat ASCII Art in C#\n",
    "Console.WriteLine(@\"       \n",
    "       /\\_____/\\\n",
    "      /  o     o\\\n",
    "     ( ==  ^  == ) \n",
    "     )   ~~~~   ( \n",
    "    /             \\\n",
    "   /  Interfaces!   \\\n",
    "  (                 )\n",
    "   \\_______________/\");"
   ]
  }
 ],
 "metadata": {
  "kernelspec": {
   "display_name": ".NET (C#)",
   "language": "C#",
   "name": ".net-csharp"
  },
  "polyglot_notebook": {
   "kernelInfo": {
    "defaultKernelName": "csharp",
    "items": [
     {
      "aliases": [],
      "languageName": "csharp",
      "name": "csharp"
     }
    ]
   }
  }
 },
 "nbformat": 4,
 "nbformat_minor": 2
}
