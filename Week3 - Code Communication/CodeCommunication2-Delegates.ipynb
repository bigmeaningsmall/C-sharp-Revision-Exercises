{
 "cells": [
  {
   "cell_type": "markdown",
   "metadata": {},
   "source": [
    "### **What Are Delegates?**\n",
    "\n",
    "- A delegate in C# is a **'type-safe' reference to a method** (meaning it only accepts methods with the same return type and parameters).  \n",
    "- It can hold and call any method that matches its signature.  \n",
    "- Delegates let you **pass methods as parameters** and form the basis of **events and callbacks** in C#.\n",
    "\n",
    "\n",
    "---\n",
    "\n",
    "### **Why Use Delegates in Games**\n",
    "\n",
    "- To **trigger methods** in other scripts without a direct link  \n",
    "- To **notify multiple systems** when something happens (for example, player takes damage)  \n",
    "- To **build flexible and reusable code** for event systems  \n",
    "\n",
    "---\n",
    "\n",
    "### **Example**\n",
    "\n",
    "In Unity, a delegate could:\n",
    "- call a sound effect\n",
    "- update the score,  \n",
    "- and show a UI message when the player collects a coin.\n",
    "\n",
    "---\n",
    "---"
   ]
  },
  {
   "cell_type": "markdown",
   "metadata": {},
   "source": [
    "### **Delegate Tutorial: Part 1 - Understanding Delegates**\n",
    "### **Step-by-Step Example: Delegates and Multicast Delegates**\n",
    "\n",
    "1. **Define a Delegate**:\n",
    "   - We'll create a simple delegate that takes an integer parameter and returns `void`.\n",
    "   \n",
    "2. **Create Methods to Use with the Delegate**:\n",
    "   - Define a couple of methods that match the delegate's signature (accept an integer and return `void`).\n",
    "\n",
    "3. **Assign the Delegate to Methods**:\n",
    "   - Show how to assign the delegate to a method and call it.\n",
    "\n",
    "4. **Demonstrate a Multicast Delegate**:\n",
    "   - Show how to add multiple methods to a delegate and call them in sequence.\n",
    "\n",
    "---\n"
   ]
  },
  {
   "cell_type": "markdown",
   "metadata": {},
   "source": [
    "\n",
    "---\n",
    "\n",
    "### **Step 1: Define the Delegate**\n"
   ]
  },
  {
   "cell_type": "code",
   "execution_count": null,
   "metadata": {
    "dotnet_interactive": {
     "language": "csharp"
    },
    "polyglot_notebook": {
     "kernelName": "csharp"
    }
   },
   "outputs": [],
   "source": [
    "// Define a delegate that takes an integer parameter and returns void\n",
    "public delegate void SimpleDelegate(int number);"
   ]
  },
  {
   "cell_type": "markdown",
   "metadata": {},
   "source": [
    "**Step 2: Create Methods that Match the Delegate**"
   ]
  },
  {
   "cell_type": "code",
   "execution_count": null,
   "metadata": {
    "dotnet_interactive": {
     "language": "csharp"
    },
    "polyglot_notebook": {
     "kernelName": "csharp"
    }
   },
   "outputs": [],
   "source": [
    "// Method to print the number\n",
    "void PrintNumber(int number)\n",
    "{\n",
    "    Console.WriteLine($\"The number is: {number}\");\n",
    "}\n",
    "\n",
    "// Method to double the number and print it\n",
    "void DoubleNumber(int number)\n",
    "{\n",
    "    Console.WriteLine($\"Double the number: {number * 2}\");\n",
    "}\n",
    "\n",
    "PrintNumber(10);\n",
    "DoubleNumber(10);"
   ]
  },
  {
   "cell_type": "markdown",
   "metadata": {},
   "source": [
    "**Step 3: Assign and Call the Delegate**"
   ]
  },
  {
   "cell_type": "code",
   "execution_count": null,
   "metadata": {
    "dotnet_interactive": {
     "language": "csharp"
    },
    "polyglot_notebook": {
     "kernelName": "csharp"
    }
   },
   "outputs": [],
   "source": [
    "// Create a delegate instance and assign it to the PrintNumber method\n",
    "SimpleDelegate myDelegate = PrintNumber;\n",
    "\n",
    "// Call the delegate with the assigned method\n",
    "myDelegate(5); // Output: The number is: 5"
   ]
  },
  {
   "cell_type": "markdown",
   "metadata": {},
   "source": [
    "**Step 4: Reassign the Delegate to Another Method**"
   ]
  },
  {
   "cell_type": "code",
   "execution_count": null,
   "metadata": {
    "dotnet_interactive": {
     "language": "csharp"
    },
    "polyglot_notebook": {
     "kernelName": "csharp"
    }
   },
   "outputs": [],
   "source": [
    "// Reassign the delegate to the DoubleNumber method\n",
    "myDelegate = DoubleNumber;\n",
    "\n",
    "// Call the delegate with the new method\n",
    "myDelegate(5); // Output: Double the number: 10"
   ]
  },
  {
   "cell_type": "markdown",
   "metadata": {},
   "source": [
    "**Step 5: Demonstrate a Multicast Delegate**"
   ]
  },
  {
   "cell_type": "code",
   "execution_count": null,
   "metadata": {
    "dotnet_interactive": {
     "language": "csharp"
    },
    "polyglot_notebook": {
     "kernelName": "csharp"
    }
   },
   "outputs": [],
   "source": [
    "\n",
    "// Add PrintNumber to the delegate again (creating a multicast delegate)\n",
    "myDelegate += PrintNumber;\n",
    "\n",
    "// Call the multicast delegate with both methods\n",
    "myDelegate(10); // Output: Double the number: 20\n",
    "                // Output: The number is: 10"
   ]
  },
  {
   "cell_type": "markdown",
   "metadata": {},
   "source": [
    "### **Expected Output**:\n",
    "```\n",
    "The number is: 5\n",
    "Double the number: 10\n",
    "Double the number: 20\n",
    "The number is: 10"
   ]
  },
  {
   "cell_type": "markdown",
   "metadata": {},
   "source": [
    "### **Explanation**:\n",
    "1. **Step 1**: The `SimpleDelegate` is defined to accept an integer parameter and return `void`.\n",
    "2. **Step 2**: `PrintNumber` and `DoubleNumber` methods match the delegate’s signature.\n",
    "3. **Step 3**: The delegate `myDelegate` is first assigned to `PrintNumber` and called.\n",
    "4. **Step 4**: `myDelegate` is reassigned to `DoubleNumber` and called again.\n",
    "5. **Step 5**: Using `myDelegate += PrintNumber;`, we create a **multicast delegate** that calls both `DoubleNumber` and `PrintNumber` in sequence.\n"
   ]
  },
  {
   "cell_type": "markdown",
   "metadata": {},
   "source": [
    "---"
   ]
  },
  {
   "cell_type": "markdown",
   "metadata": {},
   "source": [
    "\n",
    "### **Extended Exercise: Working with Delegates and Multicast Delegates**\n",
    "\n",
    "#### **Step 1: Define the Delegate and Initial Methods**\n",
    "\n",
    "```csharp\n",
    "// Define a delegate that takes an integer parameter and returns void\n",
    "public delegate void SimpleDelegate(int number);\n",
    "\n",
    "// Method to print the number\n",
    "void PrintNumber(int number)\n",
    "{\n",
    "    Console.WriteLine($\"The number is: {number}\");\n",
    "}\n",
    "\n",
    "// Method to double the number and print it\n",
    "void DoubleNumber(int number)\n",
    "{\n",
    "    Console.WriteLine($\"Double the number: {number * 2}\");\n",
    "}\n",
    "\n",
    "// Create an initial delegate and call it\n",
    "SimpleDelegate myDelegate = PrintNumber;\n",
    "myDelegate(5); // Output: The number is: 5\n",
    "```\n"
   ]
  },
  {
   "cell_type": "code",
   "execution_count": null,
   "metadata": {
    "dotnet_interactive": {
     "language": "csharp"
    },
    "polyglot_notebook": {
     "kernelName": "csharp"
    }
   },
   "outputs": [],
   "source": [
    "// Define the Delagate with Print and Double methods\n",
    "// Define a delegate that takes an integer parameter and returns void\n"
   ]
  },
  {
   "cell_type": "markdown",
   "metadata": {},
   "source": [
    "### **Step 2: Create new Methods to add to the Multicast Delegate**:\n",
    "\n",
    "1. **Create New Methods**:\n",
    "   - Add `DivideByTwo(int number)` and `SquareNumber(int number)` to the project.\n",
    "\n",
    "2. **Add New Methods to the Multicast Delegate**:\n",
    "   - Use `myDelegate += DivideByTwo;` and `myDelegate += SquareNumber;` to create a multicast delegate.\n",
    "\n",
    "3. **Test the Multicast Delegate**:\n",
    "   - Call the multicast delegate and observe how all methods execute in order.\n",
    "\n",
    "4. **Remove Methods**:\n",
    "   - Use `myDelegate -= DivideByTwo;` to remove a method from the multicast delegate and call it again."
   ]
  },
  {
   "cell_type": "code",
   "execution_count": null,
   "metadata": {
    "dotnet_interactive": {
     "language": "csharp"
    },
    "polyglot_notebook": {
     "kernelName": "csharp"
    }
   },
   "outputs": [],
   "source": [
    "// 1 create new methods to add to the delegate\n",
    "// Method to divide the number by 2 and print it\n",
    "\n"
   ]
  },
  {
   "cell_type": "code",
   "execution_count": null,
   "metadata": {
    "dotnet_interactive": {
     "language": "csharp"
    },
    "polyglot_notebook": {
     "kernelName": "csharp"
    }
   },
   "outputs": [],
   "source": [
    "//add existing and new methods to the delegate\n",
    "// Add DivideByTwo and SquareNumber to the multicast delegate\n",
    "\n",
    "\n",
    "\n"
   ]
  },
  {
   "cell_type": "code",
   "execution_count": null,
   "metadata": {
    "dotnet_interactive": {
     "language": "csharp"
    },
    "polyglot_notebook": {
     "kernelName": "csharp"
    }
   },
   "outputs": [],
   "source": [
    "// Call the multicast delegate to invoke all methods\n",
    "myDelegate(10);"
   ]
  },
  {
   "cell_type": "code",
   "execution_count": null,
   "metadata": {
    "dotnet_interactive": {
     "language": "csharp"
    },
    "polyglot_notebook": {
     "kernelName": "csharp"
    }
   },
   "outputs": [],
   "source": [
    "// Remove DivideByTwo or other methods of your choosing from the multicast delegate\n",
    "\n",
    "\n",
    "// Call the delegate again to see the updated output\n",
    "myDelegate(10);"
   ]
  },
  {
   "cell_type": "markdown",
   "metadata": {},
   "source": [
    "---\n"
   ]
  },
  {
   "cell_type": "code",
   "execution_count": 1,
   "metadata": {
    "dotnet_interactive": {
     "language": "csharp"
    },
    "polyglot_notebook": {
     "kernelName": "csharp"
    }
   },
   "outputs": [
    {
     "name": "stdout",
     "output_type": "stream",
     "text": [
      "       \n",
      "       /\\_____/\\\n",
      "      /  o     o\\\n",
      "     ( ==  ^  == ) \n",
      "     )   ~~~~   ( \n",
      "    /             \\\n",
      "   /  Delegates!   \\\n",
      "  (                )\n",
      "   \\_______________/\r\n"
     ]
    }
   ],
   "source": [
    "// Cat ASCII Art in C#\n",
    "Console.WriteLine(@\"       \n",
    "       /\\_____/\\\n",
    "      /  o     o\\\n",
    "     ( ==  ^  == ) \n",
    "     )   ~~~~   ( \n",
    "    /             \\\n",
    "   /  Delegates!   \\\n",
    "  (                )\n",
    "   \\_______________/\");"
   ]
  }
 ],
 "metadata": {
  "kernelspec": {
   "display_name": ".NET (C#)",
   "language": "C#",
   "name": ".net-csharp"
  },
  "polyglot_notebook": {
   "kernelInfo": {
    "defaultKernelName": "csharp",
    "items": [
     {
      "aliases": [],
      "languageName": "csharp",
      "name": "csharp"
     }
    ]
   }
  }
 },
 "nbformat": 4,
 "nbformat_minor": 2
}
