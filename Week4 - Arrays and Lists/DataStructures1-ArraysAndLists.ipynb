{
 "cells": [
  {
   "cell_type": "markdown",
   "metadata": {},
   "source": [
    "### Polyglot Exercise: Introduction to Data Structures (Arrays and Lists) \n",
    "\n",
    "#### Objective:\n",
    "This exercise demonstrates how to work with basic and advanced data structures: arrays and lists in C#. The tasks guide you to understand how to initialize, access, and manipulate data, including more advanced functionalities like copying, searching, and resizing arrays and lists.\n",
    "\n",
    "---\n",
    "\n",
    "### Step 1: Setting Up Arrays\n",
    "An array is a fixed-size collection of elements of the same type. You can access elements using their index.\n",
    "\n",
    "#### Task 1:\n",
    "- **Create an array of strings** to store the names of 5 different fruits.\n",
    "- **Access and print the 3rd fruit** in the array.\n",
    "\n",
    "```csharp\n",
    "// Define an array of fruits\n",
    "string[] fruits = { \"Apple\", \"Banana\", \"Cherry\", \"Grape\", \"Orange\" };\n",
    "\n",
    "// Access the 3rd fruit\n",
    "Console.WriteLine(fruits[2]);  // Output: Cherry\n",
    "```\n",
    "\n"
   ]
  },
  {
   "cell_type": "code",
   "execution_count": null,
   "metadata": {
    "dotnet_interactive": {
     "language": "csharp"
    },
    "polyglot_notebook": {
     "kernelName": "csharp"
    }
   },
   "outputs": [
    {
     "name": "stdout",
     "output_type": "stream",
     "text": [
      "Cherry\r\n"
     ]
    }
   ],
   "source": [
    "// Define an array of fruits\n",
    "string[] fruits = { \"Apple\", \"Banana\", \"Cherry\", \"Grape\", \"Orange\" };\n",
    "\n",
    "// Access the 3rd fruit\n",
    "Console.WriteLine(fruits[2]);  // Output: Cherry"
   ]
  },
  {
   "cell_type": "markdown",
   "metadata": {},
   "source": [
    "#### Challenge\n",
    "- **Replace the 2nd fruit** in the array with \"Mango\".\n",
    "- **Print the entire array** by accessing each element individually."
   ]
  },
  {
   "cell_type": "code",
   "execution_count": null,
   "metadata": {
    "dotnet_interactive": {
     "language": "csharp"
    },
    "polyglot_notebook": {
     "kernelName": "csharp"
    }
   },
   "outputs": [
    {
     "name": "stdout",
     "output_type": "stream",
     "text": [
      "Updated array: Apple, Mango, Cherry, Grape, Orange\r\n"
     ]
    }
   ],
   "source": [
    "// Replace the 2nd fruit\n",
    "fruits[1] = \"Mango\";\n",
    "\n",
    "// Print the entire array (uncomment below line)\n",
    "Console.WriteLine(\"Updated array: \" + string.Join(\", \", fruits));  // Output: Apple, Mango, Cherry, Grape, Orange"
   ]
  },
  {
   "cell_type": "markdown",
   "metadata": {},
   "source": [
    "---\n",
    "\n",
    "### Step 2: Setting Up Lists\n",
    "Lists are dynamic collections, allowing you to add or remove items after initialization.\n",
    "\n",
    "#### Task 2:\n",
    "- **Create a list of integers** that holds the numbers 10, 20, 30, and 40.\n",
    "- **Add the number 50** to the list.\n",
    "\n",
    "```csharp\n",
    "// Define a list of numbers\n",
    "List<int> numbers = new List<int> { 10, 20, 30, 40 };\n",
    "\n",
    "// Add 50 to the list\n",
    "numbers.Add(50);\n",
    "\n",
    "// Print the number you just added\n",
    "Console.WriteLine(numbers[4]);  // Output: 50\n",
    "```\n"
   ]
  },
  {
   "cell_type": "code",
   "execution_count": null,
   "metadata": {
    "dotnet_interactive": {
     "language": "csharp"
    },
    "polyglot_notebook": {
     "kernelName": "csharp"
    }
   },
   "outputs": [
    {
     "name": "stdout",
     "output_type": "stream",
     "text": [
      "50\r\n"
     ]
    }
   ],
   "source": [
    "// Define a list of numbers\n",
    "List<int> numbers = new List<int> { 10, 20, 30, 40 };\n",
    "\n",
    "// Add 50 to the list\n",
    "numbers.Add(50);\n",
    "\n",
    "// Print the number you just added\n",
    "Console.WriteLine(numbers[4]);  // Output: 50"
   ]
  },
  {
   "cell_type": "markdown",
   "metadata": {},
   "source": [
    "#### Challenge:\n",
    "- **Remove the number 20** from the list.\n",
    "- **Print the first and last elements** of the list."
   ]
  },
  {
   "cell_type": "code",
   "execution_count": null,
   "metadata": {
    "dotnet_interactive": {
     "language": "csharp"
    },
    "polyglot_notebook": {
     "kernelName": "csharp"
    }
   },
   "outputs": [
    {
     "name": "stdout",
     "output_type": "stream",
     "text": [
      "0\n",
      "2\n"
     ]
    }
   ],
   "source": [
    "// Remove the number 20 from the list\n",
    "numbers.RemoveAt(1);\n",
    "\n",
    "// Print the first and last elements\n",
    "Console.WriteLine(0);  // Output: 50\n",
    "Console.WriteLine(numbers.Count-1);  // Output: 50"
   ]
  },
  {
   "cell_type": "markdown",
   "metadata": {},
   "source": [
    "---\n",
    "\n",
    "### Step 3: Comparing Arrays and Lists\n",
    "Arrays have a fixed size, while lists can grow or shrink as needed.\n",
    "\n",
    "#### Task 3:\n",
    "- **Create an array of 4 names**.\n",
    "- **Create a list of the same 4 names**.\n",
    "\n",
    "```csharp\n",
    "// Array of names\n",
    "string[] nameArray = { \"Alice\", \"Bob\", \"Charlie\", \"Diana\" };\n",
    "\n",
    "// List of names\n",
    "List<string> nameList = new List<string> { \"Alice\", \"Bob\", \"Charlie\", \"Diana\" };\n",
    "\n",
    "// Print the 2nd name from both the array and list\n",
    "Console.WriteLine(nameArray[1]);  // Output: Bob\n",
    "Console.WriteLine(nameList[1]);  // Output: Bob\n",
    "```\n"
   ]
  },
  {
   "cell_type": "code",
   "execution_count": null,
   "metadata": {
    "dotnet_interactive": {
     "language": "csharp"
    },
    "polyglot_notebook": {
     "kernelName": "csharp"
    }
   },
   "outputs": [],
   "source": [
    "// Array of names\n",
    "string[] nameArray = { \"Alice\", \"Bob\", \"Charlie\", \"Diana\" };\n",
    "\n",
    "// List of names\n",
    "List<string> nameList = new List<string> { \"Alice\", \"Bob\", \"Charlie\", \"Diana\" };\n",
    "\n",
    "// Print the 2nd name from both the array and list\n",
    "Console.WriteLine(nameArray[1]);  // Output: Bob"
   ]
  },
  {
   "cell_type": "markdown",
   "metadata": {},
   "source": [
    "#### Challenge:\n",
    "- **Add a 5th name** to the list, but **try doing the same with the array**. What happens? Why?\n",
    "- **Print the total number of names** in both the array and list."
   ]
  },
  {
   "cell_type": "code",
   "execution_count": null,
   "metadata": {
    "dotnet_interactive": {
     "language": "csharp"
    },
    "polyglot_notebook": {
     "kernelName": "csharp"
    }
   },
   "outputs": [],
   "source": [
    "// Add a 5th name to the list\n",
    "\n",
    "// Try adding a name to the array (arrays have fixed size, so this would cause an error)\n",
    "//nameArray[5] = \"Eve\";\n",
    "Console.WriteLine(\"You cannot add to an array after initialization.\");\n",
    "\n",
    "// Print the total number of names in both the array and list - use Length for arrays and Count for lists (nameArray.Length, nameList.Count)\n",
    "\n"
   ]
  },
  {
   "cell_type": "markdown",
   "metadata": {},
   "source": [
    "---\n",
    "\n",
    "### Step 4: Copying Arrays\n",
    "You can copy arrays to create a duplicate of your data. \n",
    "(Note: You can also do this by creating a new array of the same length and casting or assigning the previous original array to it)\n",
    "\n",
    "#### Task 4:\n",
    "- **Create an array of 5 numbers**.\n",
    "- **Copy this array** to a new array and print the elements of the copied array.\n",
    "\n",
    "```csharp\n",
    "// Define an array of numbers\n",
    "int[] numbersArray = { 1, 2, 3, 4, 5 };\n",
    "\n",
    "// Copy the array to a new array\n",
    "int[] copiedArray = new int[numbersArray.Length];\n",
    "Array.Copy(numbersArray, copiedArray, numbersArray.Length);\n",
    "\n",
    "// Print the copied array's elements\n",
    "Console.WriteLine(\"Copied Array Element: \" + copiedArray[0]);  // Output: 1\n",
    "```\n"
   ]
  },
  {
   "cell_type": "code",
   "execution_count": null,
   "metadata": {
    "dotnet_interactive": {
     "language": "csharp"
    },
    "polyglot_notebook": {
     "kernelName": "csharp"
    }
   },
   "outputs": [],
   "source": [
    "// Define an array of numbers\n",
    "int[] numbersArray = { 1, 2, 3, 4, 5 };\n",
    "\n",
    "// Copy the array to a new array\n",
    "int[] copiedArray = new int[numbersArray.Length];\n",
    "Array.Copy(numbersArray, copiedArray, numbersArray.Length);\n",
    "\n",
    "// Print the copied array's elements\n",
    "Console.WriteLine(\"Copied Array Element: \" + copiedArray[0]);  // Output: 1"
   ]
  },
  {
   "cell_type": "markdown",
   "metadata": {},
   "source": [
    "#### Challenge:\n",
    "- **Modify an element in the copied array** and print both the original and copied array. Does changing one affect the other?"
   ]
  },
  {
   "cell_type": "code",
   "execution_count": null,
   "metadata": {
    "dotnet_interactive": {
     "language": "csharp"
    },
    "polyglot_notebook": {
     "kernelName": "csharp"
    }
   },
   "outputs": [],
   "source": [
    "// Modify an element in the copied array\n",
    "\n",
    "\n",
    "// Print both arrays (uncomment below lines to print)\n",
    "//Console.WriteLine(\"Original array: \" + string.Join(\", \", numbersArray));  // Output: 1, 2, 3, 4, 5\n",
    "//Console.WriteLine(\"Copied array: \" + string.Join(\", \", copiedArray));  // Output: 1, 99, 3, 4, 5\n",
    "// Changing the copied array does not affect the original array."
   ]
  },
  {
   "cell_type": "markdown",
   "metadata": {},
   "source": [
    "---\n",
    "\n",
    "### Step 5: Searching in Lists\n",
    "You can search through lists to check for specific values.\n",
    "\n",
    "#### Task 5:\n",
    "- **Create a list of strings** with the names of 4 colours (e.g., \"Red\", \"Blue\", \"Green\", \"Yellow\").\n",
    "- **Search for a specific colour** in the list and print a message if it's found.\n",
    "\n",
    "```csharp\n",
    "// Define a list of colours\n",
    "List<string> colours = new List<string> { \"Red\", \"Blue\", \"Green\", \"Yellow\" };\n",
    "\n",
    "// Check if \"Green\" is in the list\n",
    "bool containsGreen = colours.Contains(\"Green\");\n",
    "\n",
    "if (containsGreen)\n",
    "{\n",
    "    Console.WriteLine(\"The list contains Green.\");  // Output: The list contains Green.\n",
    "}\n",
    "else\n",
    "{\n",
    "    Console.WriteLine(\"Green is not in the list.\");\n",
    "}\n",
    "```\n"
   ]
  },
  {
   "cell_type": "code",
   "execution_count": null,
   "metadata": {
    "dotnet_interactive": {
     "language": "csharp"
    },
    "polyglot_notebook": {
     "kernelName": "csharp"
    }
   },
   "outputs": [],
   "source": [
    "// Define a list of colours\n",
    "List<string> colours = new List<string> { \"Red\", \"Blue\", \"Green\", \"Yellow\" };\n",
    "\n",
    "// Check if \"Green\" is in the list\n",
    "bool containsGreen = colours.Contains(\"Green\");\n",
    "\n",
    "if (containsGreen)\n",
    "{\n",
    "    Console.WriteLine(\"The list contains Green.\");  // Output: The list contains Green.\n",
    "}\n",
    "else\n",
    "{\n",
    "    Console.WriteLine(\"Green is not in the list.\");\n",
    "}"
   ]
  },
  {
   "cell_type": "markdown",
   "metadata": {},
   "source": [
    "#### Challenge:\n",
    "- **Remove the colour \"Blue\"** if it exists in the list, and then print the updated list."
   ]
  },
  {
   "cell_type": "code",
   "execution_count": null,
   "metadata": {
    "dotnet_interactive": {
     "language": "csharp"
    },
    "polyglot_notebook": {
     "kernelName": "csharp"
    }
   },
   "outputs": [],
   "source": [
    "// Remove \"Blue\" if it exists in the list\n",
    "\n",
    "\n",
    "// Print the updated list\n",
    "Console.WriteLine(\"Updated list: \" + string.Join(\", \", colours));  // Output: Red, Green, Yellow"
   ]
  },
  {
   "cell_type": "markdown",
   "metadata": {},
   "source": [
    "---\n",
    "\n",
    "---\n",
    "\n",
    "### Step 6: Resizing Arrays (Advanced)\n",
    "Arrays have a fixed size, but you can create a new array with a larger size and copy the existing elements into it.\n",
    "\n",
    "#### Task 6:\n",
    "- **Create an array of 3 numbers**.\n",
    "- **Resize the array** to hold 5 numbers by creating a new array and copying the values.\n",
    "\n",
    "```csharp\n",
    "// Define an array of numbers\n",
    "int[] smallArray = { 1, 2, 3 };\n",
    "\n",
    "// Create a new array with a larger size\n",
    "int[] resizedArray = new int[5];\n",
    "\n",
    "// Copy the original array into the new array\n",
    "Array.Copy(smallArray, resizedArray, smallArray.Length);\n",
    "\n",
    "// Add new values to the resized array\n",
    "resizedArray[3] = 4;\n",
    "resizedArray[4] = 5;\n",
    "\n",
    "// Print the resized array\n",
    "Console.WriteLine(\"Resized array: \" + string.Join(\", \", resizedArray));  // Output: 1, 2, 3, 4, 5\n",
    "```\n"
   ]
  },
  {
   "cell_type": "code",
   "execution_count": null,
   "metadata": {
    "dotnet_interactive": {
     "language": "csharp"
    },
    "polyglot_notebook": {
     "kernelName": "csharp"
    }
   },
   "outputs": [],
   "source": [
    "// Define an array of numbers\n",
    "int[] smallArray = { 1, 2, 3 };\n",
    "\n",
    "// Create a new array with a larger size\n",
    "int[] resizedArray = new int[5];\n",
    "\n",
    "// Copy the original array into the new array\n",
    "Array.Copy(smallArray, resizedArray, smallArray.Length);\n",
    "\n",
    "// Add new values to the resized array\n",
    "resizedArray[3] = 4;\n",
    "resizedArray[4] = 5;\n",
    "\n",
    "// Print the resized array\n",
    "Console.WriteLine(\"Resized array: \" + string.Join(\", \", resizedArray));  // Output: 1, 2, 3, 4, 5"
   ]
  },
  {
   "cell_type": "markdown",
   "metadata": {},
   "source": [
    "#### Challenge:\n",
    "- **Change a value in the resized array** and print the entire array."
   ]
  },
  {
   "cell_type": "code",
   "execution_count": null,
   "metadata": {
    "dotnet_interactive": {
     "language": "csharp"
    },
    "polyglot_notebook": {
     "kernelName": "csharp"
    }
   },
   "outputs": [],
   "source": [
    "// Change a value in the resized array\n",
    "\n",
    "\n",
    "// Print the entire resized array\n",
    "Console.WriteLine(\"Updated resized array: \" + string.Join(\", \", resizedArray));  // Output: 100, 2, 3, 4, 5"
   ]
  },
  {
   "cell_type": "markdown",
   "metadata": {},
   "source": [
    "---\n",
    "---\n",
    "\n",
    "### Step 7: Working with Complex Data Types in Lists\n",
    "Lists can store more than just simple data types like `int` and `string`. They can hold more complex data like objects.\n",
    "\n",
    "#### Task 7:\n",
    "- **Create a class** that represents a \"Person\" with properties like `name` and `age`.\n",
    "- **Create a list of `Person` objects** and add two people to the list.\n",
    "\n",
    "```csharp\n",
    "// Define a Person class\n",
    "public class Person\n",
    "{\n",
    "    public string Name { get; set; }\n",
    "    public int Age { get; set; }\n",
    "\n",
    "    public Person(string name, int age)\n",
    "    {\n",
    "        Name = name;\n",
    "        Age = age;\n",
    "    }\n",
    "}\n",
    "\n",
    "// Define a list of Person objects\n",
    "List<Person> people = new List<Person>();\n",
    "\n",
    "// Add two people to the list\n",
    "people.Add(new Person(\"Alice\", 25));\n",
    "people.Add(new Person(\"Bob\", 30));\n",
    "\n",
    "// Print the name of the first person\n",
    "Console.WriteLine(people[0].Name);  // Output: Alice\n",
    "```\n"
   ]
  },
  {
   "cell_type": "code",
   "execution_count": null,
   "metadata": {
    "dotnet_interactive": {
     "language": "csharp"
    },
    "polyglot_notebook": {
     "kernelName": "csharp"
    }
   },
   "outputs": [],
   "source": [
    "// Define a Person class\n",
    "public class Person\n",
    "{\n",
    "    public string Name { get; set; }\n",
    "    public int Age { get; set; }\n",
    "\n",
    "    public Person(string name, int age)\n",
    "    {\n",
    "        Name = name;\n",
    "        Age = age;\n",
    "    }\n",
    "}\n",
    "\n",
    "// Define a list of Person objects\n",
    "List<Person> people = new List<Person>();\n",
    "\n",
    "// Add two people to the list\n",
    "people.Add(new Person(\"Alice\", 25));\n",
    "people.Add(new Person(\"Bob\", 30));\n",
    "\n",
    "\n",
    "//print the details for all the people in the list\n",
    "foreach (Person person in people)\n",
    "{\n",
    "    Console.WriteLine(\"Name: \" + person.Name + \", Age: \" + person.Age);\n",
    "}"
   ]
  },
  {
   "cell_type": "markdown",
   "metadata": {},
   "source": [
    "#### Challenge:\n",
    "- step 1: **Clear the list** (List is empty)\n",
    "- step 2: **Add five new people** to the list.\n",
    "- step 3: Use a **foreach loop** to print the details of the whole list.\n",
    "- step 4: **Change** the name of the first person on the list and the age of the third person.\n",
    "- step 5: Use a **foreach loop** to print the details of the whole list again.\n",
    "- step 6: **Remove** the last person on the list (Use 'Count' and 'RemoveAt' method).\n",
    "- step 7: **Use a foreach loop** to print the details of the final list."
   ]
  },
  {
   "cell_type": "code",
   "execution_count": null,
   "metadata": {
    "dotnet_interactive": {
     "language": "csharp"
    },
    "polyglot_notebook": {
     "kernelName": "csharp"
    }
   },
   "outputs": [],
   "source": [
    "\n",
    "//step 1 - Clear the list\n",
    "\n",
    "\n",
    "//step 2 - Add a five new people to the list\n",
    "\n",
    "\n",
    "\n",
    "// step details - this is just to separate the output\n",
    "Console.WriteLine(\"--- List  Cleared -  new people added ---\");\n",
    "\n",
    "//step 3 - print the details for all the people in the list\n",
    "\n",
    "\n",
    "\n",
    "//step 4a - change the name of the first person in the list\n",
    "\n",
    "\n",
    "//step 4b - change the age of the third person in the list\n",
    "\n",
    "\n",
    "// step details - this is just to separate the output\n",
    "Console.WriteLine(\"--- List after changes made ---\");\n",
    "\n",
    "//step 5 - print the details for all the people in the list\n",
    "\n",
    "\n",
    "\n",
    "//step 6 - remove the last person from the list (use Count and the RemoveAt method)\n",
    "\n",
    "\n",
    "// step details - this is just to separate the output\n",
    "Console.WriteLine(\"--- List after last person removed ---\");\n",
    "\n",
    "//step 7 - print the details for all the people in the final list\n",
    "\n",
    "\n"
   ]
  },
  {
   "cell_type": "markdown",
   "metadata": {},
   "source": [
    "\n",
    "---\n",
    "\n",
    "### Conclusion:\n",
    "This exercise introduces arrays and lists, how to set them up, work with them, and demonstrates more advanced functionality like copying, searching, and resizing.\n",
    "\n",
    "Understanding these concepts will set a solid foundation for working with data structures in C#. "
   ]
  },
  {
   "cell_type": "code",
   "execution_count": null,
   "metadata": {
    "dotnet_interactive": {
     "language": "csharp"
    },
    "polyglot_notebook": {
     "kernelName": "csharp"
    }
   },
   "outputs": [],
   "source": [
    "// Cat ASCII Art in C#\n",
    "Console.WriteLine(@\"       \n",
    "       /\\_____/\\\n",
    "      /  o     o\\\n",
    "     ( ==  ^  == ) \n",
    "     )   ~~~~   ( \n",
    "    /             \\\n",
    "   /  Great Job!   \\\n",
    "  (                )\n",
    "   \\_______________/\");"
   ]
  }
 ],
 "metadata": {
  "kernelspec": {
   "display_name": ".NET (C#)",
   "language": "C#",
   "name": ".net-csharp"
  },
  "polyglot_notebook": {
   "kernelInfo": {
    "defaultKernelName": "csharp",
    "items": [
     {
      "aliases": [],
      "languageName": "csharp",
      "name": "csharp"
     }
    ]
   }
  }
 },
 "nbformat": 4,
 "nbformat_minor": 2
}
