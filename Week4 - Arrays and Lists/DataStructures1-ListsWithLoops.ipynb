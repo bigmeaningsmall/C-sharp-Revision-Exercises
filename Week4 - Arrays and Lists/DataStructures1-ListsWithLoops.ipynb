{
 "cells": [
  {
   "cell_type": "markdown",
   "metadata": {},
   "source": [
    "### Polyglot Exercise: Manipulating a List with Loops\n",
    "\n",
    "#### Objective:\n",
    "This exercise introduces how to use loops with a list, focusing on manipulating the list and checking its state throughout the tasks. \n",
    "\n",
    "You will practice how to modify, access, and remove elements using loops, all while working with a single list.\n",
    "\n",
    "---\n",
    "\n",
    "### Step 1: Setting Up the List\n",
    "Let’s start by setting up a list of integers that we’ll use for the entire exercise.\n",
    "\n",
    "#### Task 1:\n",
    "- **Create a list of integers** with the values 10, 20, 30, 40, and 50.\n",
    "- **Print the list** to confirm the setup.\n",
    "\n",
    "```csharp\n",
    "// Define a list of integers\n",
    "List<int> numbers = new List<int> { 10, 20, 30, 40, 50 };\n",
    "\n",
    "// Print the original list\n",
    "Console.WriteLine(\"Original list: \" + string.Join(\", \", numbers));  // Output: 10, 20, 30, 40, 50\n",
    "```\n"
   ]
  },
  {
   "cell_type": "code",
   "execution_count": null,
   "metadata": {
    "dotnet_interactive": {
     "language": "csharp"
    },
    "polyglot_notebook": {
     "kernelName": "csharp"
    }
   },
   "outputs": [],
   "source": [
    "// Define a list of integers\n",
    "List<int> numbers = new List<int> { 10, 20, 30, 40, 50 };\n",
    "\n",
    "// Print the original list\n",
    "Console.WriteLine(\"Original list: \" + string.Join(\", \", numbers));  // Output: 10, 20, 30, 40, 50"
   ]
  },
  {
   "cell_type": "markdown",
   "metadata": {},
   "source": [
    "#### Challenge 1:\n",
    "- **Add two more numbers** (e.g., 60 and 70) to the list.\n",
    "- **Print the updated list** after adding the new numbers."
   ]
  },
  {
   "cell_type": "code",
   "execution_count": null,
   "metadata": {
    "dotnet_interactive": {
     "language": "csharp"
    },
    "polyglot_notebook": {
     "kernelName": "csharp"
    }
   },
   "outputs": [],
   "source": [
    "// Add two more numbers\n",
    "\n",
    "\n",
    "// Print the updated list\n",
    "Console.WriteLine(\"Updated list: \" + string.Join(\", \", numbers));  // Output: 10, 20, 30, 40, 50, 60, 70"
   ]
  },
  {
   "cell_type": "markdown",
   "metadata": {},
   "source": [
    "---\n",
    "\n",
    "### Step 2: Accessing and Printing List Elements with a `for` Loop\n",
    "Next, let’s use a `for` loop to access and print each number in the list along with its index.\n",
    "\n",
    "#### Task 2:\n",
    "- **Use a `for` loop to print each number** in the list, along with its index.\n",
    "\n",
    "```csharp\n",
    "// Use a for loop to access and print each number with its index\n",
    "for (int i = 0; i < numbers.Count; i++)\n",
    "{\n",
    "    Console.WriteLine(\"Index: \" + i + \", Value: \" + numbers[i]);\n",
    "}\n",
    "// Output:\n",
    "// Index: 0, Value: 10\n",
    "// Index: 1, Value: 20\n",
    "// ...\n",
    "// Index: 6, Value: 70\n",
    "```\n"
   ]
  },
  {
   "cell_type": "code",
   "execution_count": null,
   "metadata": {
    "dotnet_interactive": {
     "language": "csharp"
    },
    "polyglot_notebook": {
     "kernelName": "csharp"
    }
   },
   "outputs": [],
   "source": [
    "// Use a for loop to access and print each number with its index\n",
    "for (int i = 0; i < numbers.Count; i++)\n",
    "{\n",
    "    Console.WriteLine(\"Index: \" + i + \", Value: \" + numbers[i]);\n",
    "}"
   ]
  },
  {
   "cell_type": "markdown",
   "metadata": {},
   "source": [
    "#### Challenge 2:\n",
    "- **Print only the even numbers** from the list by checking each element in the `for` loop.\n",
    "    -  Hint: Use modulo '%' for the condition - (numbers[i] % 2 == 0)"
   ]
  },
  {
   "cell_type": "code",
   "execution_count": null,
   "metadata": {
    "dotnet_interactive": {
     "language": "csharp"
    },
    "polyglot_notebook": {
     "kernelName": "csharp"
    }
   },
   "outputs": [],
   "source": [
    "// Print only the even numbers\n"
   ]
  },
  {
   "cell_type": "markdown",
   "metadata": {},
   "source": [
    "---\n",
    "\n",
    "### Step 3: Modifying List Elements with a `for` Loop\n",
    "Let’s modify each element of the list by doubling its value. After modifying, print the updated list.\n",
    "\n",
    "#### Task 3:\n",
    "- **Use a `for` loop to double each number** in the list.\n",
    "- After modifying, **print the updated list**.\n",
    "\n",
    "```csharp\n",
    "// Double each number in the list using a for loop\n",
    "for (int i = 0; i < numbers.Count; i++)\n",
    "{\n",
    "    numbers[i] *= 2;\n",
    "}\n",
    "\n",
    "// Print the updated list\n",
    "Console.WriteLine(\"List after doubling: \" + string.Join(\", \", numbers));  \n",
    "// Output: 20, 40, 60, 80, 100, 120, 140\n",
    "```\n"
   ]
  },
  {
   "cell_type": "code",
   "execution_count": null,
   "metadata": {
    "dotnet_interactive": {
     "language": "csharp"
    },
    "polyglot_notebook": {
     "kernelName": "csharp"
    }
   },
   "outputs": [],
   "source": [
    "// Double each number in the list using a for loop\n",
    "for (int i = 0; i < numbers.Count; i++)\n",
    "{\n",
    "    numbers[i] *= 2;\n",
    "}\n",
    "\n",
    "// Print the updated list\n",
    "Console.WriteLine(\"List after doubling: \" + string.Join(\", \", numbers));  \n",
    "// Output: 20, 40, 60, 80, 100, 120, 140"
   ]
  },
  {
   "cell_type": "markdown",
   "metadata": {},
   "source": [
    "#### Challenge 3:\n",
    "- **Add 5 to each number in the list** and print the updated list."
   ]
  },
  {
   "cell_type": "code",
   "execution_count": null,
   "metadata": {
    "dotnet_interactive": {
     "language": "csharp"
    },
    "polyglot_notebook": {
     "kernelName": "csharp"
    }
   },
   "outputs": [],
   "source": [
    "// Add 5 to each number\n",
    "\n",
    "\n",
    "// Print the updated list\n",
    "Console.WriteLine(\"List after adding 5: \" + string.Join(\", \", numbers));  \n",
    "// Output: 25, 45, 65, 85, 105, 125, 145"
   ]
  },
  {
   "cell_type": "markdown",
   "metadata": {},
   "source": [
    "\n",
    "---\n",
    "\n",
    "### Step 4: Checking and Modifying Specific Elements\n",
    "Sometimes you may want to check each element and perform a specific operation only if it meets a condition.\n",
    "\n",
    "#### Task 4:\n",
    "- **Use a `for` loop to add 10** to each number that is greater than 60.\n",
    "- **Print the updated list** after making changes.\n",
    "\n",
    "```csharp\n",
    "// Add 10 to numbers greater than 60\n",
    "for (int i = 0; i < numbers.Count; i++)\n",
    "{\n",
    "    if (numbers[i] > 60)\n",
    "    {\n",
    "        numbers[i] += 10;\n",
    "    }\n",
    "}\n",
    "\n",
    "// Print the updated list\n",
    "Console.WriteLine(\"List after adding 10 to numbers greater than 60: \" + string.Join(\", \", numbers));\n",
    "// Output: 25, 45, 65, 85, 105, 135, 155\n",
    "```\n"
   ]
  },
  {
   "cell_type": "code",
   "execution_count": null,
   "metadata": {
    "dotnet_interactive": {
     "language": "csharp"
    },
    "polyglot_notebook": {
     "kernelName": "csharp"
    }
   },
   "outputs": [],
   "source": [
    "// Add 10 to numbers greater than 60\n",
    "for (int i = 0; i < numbers.Count; i++)\n",
    "{\n",
    "    if (numbers[i] > 60)\n",
    "    {\n",
    "        numbers[i] += 10;\n",
    "    }\n",
    "}\n",
    "\n",
    "// Print the updated list\n",
    "Console.WriteLine(\"List after adding 10 to numbers greater than 60: \" + string.Join(\", \", numbers));\n",
    "// Output: 25, 45, 65, 85, 105, 135, 155"
   ]
  },
  {
   "cell_type": "markdown",
   "metadata": {},
   "source": [
    "#### Challenge 4:\n",
    "- **Use a `for` loop to subtract 5** from each number that is less than 50, then print the updated list."
   ]
  },
  {
   "cell_type": "code",
   "execution_count": null,
   "metadata": {
    "dotnet_interactive": {
     "language": "csharp"
    },
    "polyglot_notebook": {
     "kernelName": "csharp"
    }
   },
   "outputs": [],
   "source": [
    "// Subtract 5 from numbers less than 50\n",
    "\n",
    "\n",
    "// Print the updated list\n",
    "Console.WriteLine(\"List after subtracting 5 from numbers less than 50: \" + string.Join(\", \", numbers));\n",
    "// Output: 20, 45, 65, 85, 105, 135, 155"
   ]
  },
  {
   "cell_type": "markdown",
   "metadata": {},
   "source": [
    "\n",
    "---\n",
    "\n",
    "### Step 5: Removing Elements with a `for` Loop\n",
    "Now, let's remove elements from the list that meet a specific condition using a `for` loop.\n",
    "\n",
    "#### Task 5:\n",
    "- **Use a `for` loop to remove numbers greater than 200** from the list.\n",
    "- **Print the updated list** after removal.\n",
    "\n",
    "```csharp\n",
    "// Removing numbers greater than 100\n",
    "for (int i = numbers.Count - 1; i >= 0; i--)  // Loop backward to avoid index issues\n",
    "{\n",
    "    if (numbers[i] > 200)\n",
    "    {\n",
    "        numbers.RemoveAt(i);\n",
    "    }\n",
    "}\n",
    "\n",
    "// Print the updated list\n",
    "Console.WriteLine(\"List after removing numbers greater than 100: \" + string.Join(\", \", numbers));\n",
    "// Output: 20, 45, 65, 85\n",
    "```\n"
   ]
  },
  {
   "cell_type": "code",
   "execution_count": null,
   "metadata": {
    "dotnet_interactive": {
     "language": "csharp"
    },
    "polyglot_notebook": {
     "kernelName": "csharp"
    }
   },
   "outputs": [],
   "source": [
    "// Removing numbers greater than 200\n",
    "for (int i = numbers.Count - 1; i >= 0; i--)  // Loop backward to avoid index issues\n",
    "{\n",
    "    if (numbers[i] > 200)\n",
    "    {\n",
    "        numbers.RemoveAt(i);\n",
    "    }\n",
    "}\n",
    "\n",
    "// Print the updated list\n",
    "Console.WriteLine(\"List after removing numbers greater than 100: \" + string.Join(\", \", numbers));\n",
    "// Output: 20, 45, 65, 85"
   ]
  },
  {
   "cell_type": "markdown",
   "metadata": {},
   "source": [
    "#### Challenge 5:\n",
    "- **Remove all numbers less than 50** from the list using a `for` loop, then print the updated list."
   ]
  },
  {
   "cell_type": "code",
   "execution_count": null,
   "metadata": {
    "dotnet_interactive": {
     "language": "csharp"
    },
    "polyglot_notebook": {
     "kernelName": "csharp"
    }
   },
   "outputs": [],
   "source": [
    "// Remove numbers less than 50\n",
    "\n",
    "\n",
    "// Print the updated list\n",
    "Console.WriteLine(\"List after removing numbers less than 50: \" + string.Join(\", \", numbers));\n",
    "// Output: 65, 85"
   ]
  },
  {
   "cell_type": "markdown",
   "metadata": {},
   "source": [
    "\n",
    "---\n",
    "\n",
    "### Step 6: Checking Final State of the List\n",
    "Finally, let’s check the state of the list after all modifications.\n",
    "\n",
    "#### Task 6:\n",
    "- **Print the final state of the list** to check how many elements are left and what they are.\n",
    "\n",
    "```csharp\n",
    "// Print the final state of the list\n",
    "Console.WriteLine(\"Final list: \" + string.Join(\", \", numbers));  // Output: 65, 85\n",
    "```\n"
   ]
  },
  {
   "cell_type": "code",
   "execution_count": null,
   "metadata": {
    "dotnet_interactive": {
     "language": "csharp"
    },
    "polyglot_notebook": {
     "kernelName": "csharp"
    }
   },
   "outputs": [],
   "source": [
    "// Print the final state of the list\n",
    "Console.WriteLine(\"Final list: \" + string.Join(\", \", numbers));  // Output: 65, 85"
   ]
  },
  {
   "cell_type": "markdown",
   "metadata": {},
   "source": [
    "---\n"
   ]
  },
  {
   "cell_type": "markdown",
   "metadata": {},
   "source": [
    "### Extra Challenge 6:\n",
    "- **1: Check if the list contains the number 60**, and if it does, print a message indicating that it’s still in the list.\n",
    "- **2: Sum all the elements in the list** and print the total."
   ]
  },
  {
   "cell_type": "code",
   "execution_count": null,
   "metadata": {
    "dotnet_interactive": {
     "language": "csharp"
    },
    "polyglot_notebook": {
     "kernelName": "csharp"
    }
   },
   "outputs": [],
   "source": [
    "// Check if the list contains the number 60\n",
    "\n",
    "\n",
    "\n",
    "// Sum all the elements in the list (hint: create a variable to store the sum)\n",
    "\n",
    "\n",
    "\n",
    "// Print the total sum of the elements - uncomment the line below to see the output\n",
    "//Console.WriteLine(\"The total sum of the list is: \" + totalSum);"
   ]
  },
  {
   "cell_type": "markdown",
   "metadata": {},
   "source": [
    "\n",
    "---\n",
    "\n",
    "### Conclusion:\n",
    "This exercise shows how to use loops to manipulate a single list in various ways. You’ve seen how to access, modify, and remove elements based on specific conditions. Understanding how to work with lists and loops is a key skill when working with dynamic collections in C#."
   ]
  },
  {
   "cell_type": "code",
   "execution_count": null,
   "metadata": {
    "dotnet_interactive": {
     "language": "csharp"
    },
    "polyglot_notebook": {
     "kernelName": "csharp"
    }
   },
   "outputs": [],
   "source": [
    "// Cat ASCII Art in C#\n",
    "Console.WriteLine(@\"       \n",
    "       /\\_____/\\\n",
    "      /  o     o\\\n",
    "     ( ==  ^  == ) \n",
    "     )   ~~~~   ( \n",
    "    /             \\\n",
    "   /  Great Job!   \\\n",
    "  (                )\n",
    "   \\_______________/\");"
   ]
  }
 ],
 "metadata": {
  "kernelspec": {
   "display_name": ".NET (C#)",
   "language": "C#",
   "name": ".net-csharp"
  },
  "polyglot_notebook": {
   "kernelInfo": {
    "defaultKernelName": "csharp",
    "items": [
     {
      "aliases": [],
      "languageName": "csharp",
      "name": "csharp"
     }
    ]
   }
  }
 },
 "nbformat": 4,
 "nbformat_minor": 2
}
